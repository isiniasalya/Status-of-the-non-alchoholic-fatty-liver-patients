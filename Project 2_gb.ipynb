{
 "cells": [
  {
   "cell_type": "code",
   "execution_count": 1,
   "id": "9393debe",
   "metadata": {},
   "outputs": [],
   "source": [
    "import numpy as np\n",
    "import pandas as pd\n",
    "import matplotlib.pyplot as plt\n",
    "import seaborn as sns\n",
    "from sklearn.metrics import accuracy_score\n",
    "from sklearn.metrics import roc_curve, auc\n",
    "from sklearn.metrics import confusion_matrix\n",
    "from sklearn.metrics import f1_score\n",
    "sns.set_style(\"darkgrid\")"
   ]
  },
  {
   "cell_type": "code",
   "execution_count": 4,
   "id": "2dae3404",
   "metadata": {},
   "outputs": [],
   "source": [
    "df = pd.read_csv('baseline data.csv')\n",
    "df2 = pd.read_csv('merged_dataset.csv')"
   ]
  },
  {
   "cell_type": "code",
   "execution_count": 5,
   "id": "9bf73134",
   "metadata": {},
   "outputs": [],
   "source": [
    "import pandas as pd\n",
    "import numpy as np\n",
    "import matplotlib.pyplot as plt\n",
    "import seaborn as sns\n",
    "sns.set_style(\"darkgrid\")"
   ]
  },
  {
   "cell_type": "code",
   "execution_count": 6,
   "id": "2436f902",
   "metadata": {},
   "outputs": [
    {
     "data": {
      "text/html": [
       "<div>\n",
       "<style scoped>\n",
       "    .dataframe tbody tr th:only-of-type {\n",
       "        vertical-align: middle;\n",
       "    }\n",
       "\n",
       "    .dataframe tbody tr th {\n",
       "        vertical-align: top;\n",
       "    }\n",
       "\n",
       "    .dataframe thead th {\n",
       "        text-align: right;\n",
       "    }\n",
       "</style>\n",
       "<table border=\"1\" class=\"dataframe\">\n",
       "  <thead>\n",
       "    <tr style=\"text-align: right;\">\n",
       "      <th></th>\n",
       "      <th>Unnamed: 0</th>\n",
       "      <th>id</th>\n",
       "      <th>age</th>\n",
       "      <th>male</th>\n",
       "      <th>weight</th>\n",
       "      <th>height</th>\n",
       "      <th>bmi</th>\n",
       "      <th>case.id</th>\n",
       "      <th>futime</th>\n",
       "      <th>status</th>\n",
       "    </tr>\n",
       "  </thead>\n",
       "  <tbody>\n",
       "    <tr>\n",
       "      <th>0</th>\n",
       "      <td>3631</td>\n",
       "      <td>1</td>\n",
       "      <td>57</td>\n",
       "      <td>0</td>\n",
       "      <td>60.0</td>\n",
       "      <td>163.0</td>\n",
       "      <td>22.690939</td>\n",
       "      <td>10630.0</td>\n",
       "      <td>6261</td>\n",
       "      <td>0</td>\n",
       "    </tr>\n",
       "    <tr>\n",
       "      <th>1</th>\n",
       "      <td>8458</td>\n",
       "      <td>2</td>\n",
       "      <td>67</td>\n",
       "      <td>0</td>\n",
       "      <td>70.4</td>\n",
       "      <td>168.0</td>\n",
       "      <td>24.884028</td>\n",
       "      <td>14817.0</td>\n",
       "      <td>624</td>\n",
       "      <td>0</td>\n",
       "    </tr>\n",
       "    <tr>\n",
       "      <th>2</th>\n",
       "      <td>6298</td>\n",
       "      <td>3</td>\n",
       "      <td>53</td>\n",
       "      <td>1</td>\n",
       "      <td>105.8</td>\n",
       "      <td>186.0</td>\n",
       "      <td>30.453537</td>\n",
       "      <td>3.0</td>\n",
       "      <td>1783</td>\n",
       "      <td>0</td>\n",
       "    </tr>\n",
       "    <tr>\n",
       "      <th>3</th>\n",
       "      <td>15398</td>\n",
       "      <td>4</td>\n",
       "      <td>56</td>\n",
       "      <td>1</td>\n",
       "      <td>109.3</td>\n",
       "      <td>170.0</td>\n",
       "      <td>37.830100</td>\n",
       "      <td>6628.0</td>\n",
       "      <td>3143</td>\n",
       "      <td>0</td>\n",
       "    </tr>\n",
       "    <tr>\n",
       "      <th>4</th>\n",
       "      <td>13261</td>\n",
       "      <td>5</td>\n",
       "      <td>68</td>\n",
       "      <td>1</td>\n",
       "      <td>NaN</td>\n",
       "      <td>NaN</td>\n",
       "      <td>NaN</td>\n",
       "      <td>1871.0</td>\n",
       "      <td>1836</td>\n",
       "      <td>1</td>\n",
       "    </tr>\n",
       "  </tbody>\n",
       "</table>\n",
       "</div>"
      ],
      "text/plain": [
       "   Unnamed: 0  id  age  male  weight  height        bmi  case.id  futime  \\\n",
       "0        3631   1   57     0    60.0   163.0  22.690939  10630.0    6261   \n",
       "1        8458   2   67     0    70.4   168.0  24.884028  14817.0     624   \n",
       "2        6298   3   53     1   105.8   186.0  30.453537      3.0    1783   \n",
       "3       15398   4   56     1   109.3   170.0  37.830100   6628.0    3143   \n",
       "4       13261   5   68     1     NaN     NaN        NaN   1871.0    1836   \n",
       "\n",
       "   status  \n",
       "0       0  \n",
       "1       0  \n",
       "2       0  \n",
       "3       0  \n",
       "4       1  "
      ]
     },
     "execution_count": 6,
     "metadata": {},
     "output_type": "execute_result"
    }
   ],
   "source": [
    "liver = df\n",
    "liver.head()"
   ]
  },
  {
   "cell_type": "code",
   "execution_count": 7,
   "id": "19bbd1d5",
   "metadata": {},
   "outputs": [
    {
     "data": {
      "text/plain": [
       "Index(['Unnamed: 0', 'id', 'age', 'male', 'weight', 'height', 'bmi', 'case.id',\n",
       "       'futime', 'status'],\n",
       "      dtype='object')"
      ]
     },
     "execution_count": 7,
     "metadata": {},
     "output_type": "execute_result"
    }
   ],
   "source": [
    "liver.columns"
   ]
  },
  {
   "cell_type": "code",
   "execution_count": 8,
   "id": "2e364b6e",
   "metadata": {},
   "outputs": [
    {
     "data": {
      "text/html": [
       "<div>\n",
       "<style scoped>\n",
       "    .dataframe tbody tr th:only-of-type {\n",
       "        vertical-align: middle;\n",
       "    }\n",
       "\n",
       "    .dataframe tbody tr th {\n",
       "        vertical-align: top;\n",
       "    }\n",
       "\n",
       "    .dataframe thead th {\n",
       "        text-align: right;\n",
       "    }\n",
       "</style>\n",
       "<table border=\"1\" class=\"dataframe\">\n",
       "  <thead>\n",
       "    <tr style=\"text-align: right;\">\n",
       "      <th></th>\n",
       "      <th>Un</th>\n",
       "      <th>id</th>\n",
       "      <th>age</th>\n",
       "      <th>gender</th>\n",
       "      <th>weight_kg</th>\n",
       "      <th>height_cm</th>\n",
       "      <th>bmi</th>\n",
       "      <th>case.id</th>\n",
       "      <th>futime</th>\n",
       "      <th>status</th>\n",
       "    </tr>\n",
       "  </thead>\n",
       "  <tbody>\n",
       "    <tr>\n",
       "      <th>0</th>\n",
       "      <td>3631</td>\n",
       "      <td>1</td>\n",
       "      <td>57</td>\n",
       "      <td>0</td>\n",
       "      <td>60.0</td>\n",
       "      <td>163.0</td>\n",
       "      <td>22.690939</td>\n",
       "      <td>10630.0</td>\n",
       "      <td>6261</td>\n",
       "      <td>0</td>\n",
       "    </tr>\n",
       "    <tr>\n",
       "      <th>1</th>\n",
       "      <td>8458</td>\n",
       "      <td>2</td>\n",
       "      <td>67</td>\n",
       "      <td>0</td>\n",
       "      <td>70.4</td>\n",
       "      <td>168.0</td>\n",
       "      <td>24.884028</td>\n",
       "      <td>14817.0</td>\n",
       "      <td>624</td>\n",
       "      <td>0</td>\n",
       "    </tr>\n",
       "    <tr>\n",
       "      <th>2</th>\n",
       "      <td>6298</td>\n",
       "      <td>3</td>\n",
       "      <td>53</td>\n",
       "      <td>1</td>\n",
       "      <td>105.8</td>\n",
       "      <td>186.0</td>\n",
       "      <td>30.453537</td>\n",
       "      <td>3.0</td>\n",
       "      <td>1783</td>\n",
       "      <td>0</td>\n",
       "    </tr>\n",
       "    <tr>\n",
       "      <th>3</th>\n",
       "      <td>15398</td>\n",
       "      <td>4</td>\n",
       "      <td>56</td>\n",
       "      <td>1</td>\n",
       "      <td>109.3</td>\n",
       "      <td>170.0</td>\n",
       "      <td>37.830100</td>\n",
       "      <td>6628.0</td>\n",
       "      <td>3143</td>\n",
       "      <td>0</td>\n",
       "    </tr>\n",
       "    <tr>\n",
       "      <th>4</th>\n",
       "      <td>13261</td>\n",
       "      <td>5</td>\n",
       "      <td>68</td>\n",
       "      <td>1</td>\n",
       "      <td>NaN</td>\n",
       "      <td>NaN</td>\n",
       "      <td>NaN</td>\n",
       "      <td>1871.0</td>\n",
       "      <td>1836</td>\n",
       "      <td>1</td>\n",
       "    </tr>\n",
       "  </tbody>\n",
       "</table>\n",
       "</div>"
      ],
      "text/plain": [
       "      Un  id  age  gender  weight_kg  height_cm        bmi  case.id  futime  \\\n",
       "0   3631   1   57       0       60.0      163.0  22.690939  10630.0    6261   \n",
       "1   8458   2   67       0       70.4      168.0  24.884028  14817.0     624   \n",
       "2   6298   3   53       1      105.8      186.0  30.453537      3.0    1783   \n",
       "3  15398   4   56       1      109.3      170.0  37.830100   6628.0    3143   \n",
       "4  13261   5   68       1        NaN        NaN        NaN   1871.0    1836   \n",
       "\n",
       "   status  \n",
       "0       0  \n",
       "1       0  \n",
       "2       0  \n",
       "3       0  \n",
       "4       1  "
      ]
     },
     "execution_count": 8,
     "metadata": {},
     "output_type": "execute_result"
    }
   ],
   "source": [
    "liver.rename(columns={'Unnamed: 0':'Un', 'male':'gender','weight':'weight_kg','height':'height_cm'}, inplace = True)\n",
    "liver.head()"
   ]
  },
  {
   "cell_type": "code",
   "execution_count": 9,
   "id": "00c66196",
   "metadata": {},
   "outputs": [
    {
     "data": {
      "text/plain": [
       "Index(['Un', 'id', 'age', 'gender', 'weight_kg', 'height_cm', 'bmi', 'case.id',\n",
       "       'futime', 'status'],\n",
       "      dtype='object')"
      ]
     },
     "execution_count": 9,
     "metadata": {},
     "output_type": "execute_result"
    }
   ],
   "source": [
    "liver.columns"
   ]
  },
  {
   "cell_type": "code",
   "execution_count": 10,
   "id": "97163651",
   "metadata": {},
   "outputs": [
    {
     "data": {
      "text/html": [
       "<div>\n",
       "<style scoped>\n",
       "    .dataframe tbody tr th:only-of-type {\n",
       "        vertical-align: middle;\n",
       "    }\n",
       "\n",
       "    .dataframe tbody tr th {\n",
       "        vertical-align: top;\n",
       "    }\n",
       "\n",
       "    .dataframe thead th {\n",
       "        text-align: right;\n",
       "    }\n",
       "</style>\n",
       "<table border=\"1\" class=\"dataframe\">\n",
       "  <thead>\n",
       "    <tr style=\"text-align: right;\">\n",
       "      <th></th>\n",
       "      <th>id</th>\n",
       "      <th>age</th>\n",
       "      <th>gender</th>\n",
       "      <th>weight_kg</th>\n",
       "      <th>height_cm</th>\n",
       "      <th>bmi</th>\n",
       "      <th>futime</th>\n",
       "      <th>status</th>\n",
       "    </tr>\n",
       "  </thead>\n",
       "  <tbody>\n",
       "    <tr>\n",
       "      <th>0</th>\n",
       "      <td>1</td>\n",
       "      <td>57</td>\n",
       "      <td>0</td>\n",
       "      <td>60.0</td>\n",
       "      <td>163.0</td>\n",
       "      <td>22.690939</td>\n",
       "      <td>6261</td>\n",
       "      <td>0</td>\n",
       "    </tr>\n",
       "    <tr>\n",
       "      <th>1</th>\n",
       "      <td>2</td>\n",
       "      <td>67</td>\n",
       "      <td>0</td>\n",
       "      <td>70.4</td>\n",
       "      <td>168.0</td>\n",
       "      <td>24.884028</td>\n",
       "      <td>624</td>\n",
       "      <td>0</td>\n",
       "    </tr>\n",
       "    <tr>\n",
       "      <th>2</th>\n",
       "      <td>3</td>\n",
       "      <td>53</td>\n",
       "      <td>1</td>\n",
       "      <td>105.8</td>\n",
       "      <td>186.0</td>\n",
       "      <td>30.453537</td>\n",
       "      <td>1783</td>\n",
       "      <td>0</td>\n",
       "    </tr>\n",
       "    <tr>\n",
       "      <th>3</th>\n",
       "      <td>4</td>\n",
       "      <td>56</td>\n",
       "      <td>1</td>\n",
       "      <td>109.3</td>\n",
       "      <td>170.0</td>\n",
       "      <td>37.830100</td>\n",
       "      <td>3143</td>\n",
       "      <td>0</td>\n",
       "    </tr>\n",
       "    <tr>\n",
       "      <th>4</th>\n",
       "      <td>5</td>\n",
       "      <td>68</td>\n",
       "      <td>1</td>\n",
       "      <td>NaN</td>\n",
       "      <td>NaN</td>\n",
       "      <td>NaN</td>\n",
       "      <td>1836</td>\n",
       "      <td>1</td>\n",
       "    </tr>\n",
       "  </tbody>\n",
       "</table>\n",
       "</div>"
      ],
      "text/plain": [
       "   id  age  gender  weight_kg  height_cm        bmi  futime  status\n",
       "0   1   57       0       60.0      163.0  22.690939    6261       0\n",
       "1   2   67       0       70.4      168.0  24.884028     624       0\n",
       "2   3   53       1      105.8      186.0  30.453537    1783       0\n",
       "3   4   56       1      109.3      170.0  37.830100    3143       0\n",
       "4   5   68       1        NaN        NaN        NaN    1836       1"
      ]
     },
     "execution_count": 10,
     "metadata": {},
     "output_type": "execute_result"
    }
   ],
   "source": [
    "df = liver.drop([\"Un\",\"case.id\"],axis=1)\n",
    "df.head()"
   ]
  },
  {
   "cell_type": "code",
   "execution_count": 11,
   "id": "ddd467bc",
   "metadata": {},
   "outputs": [
    {
     "data": {
      "text/plain": [
       "(17549, 8)"
      ]
     },
     "execution_count": 11,
     "metadata": {},
     "output_type": "execute_result"
    }
   ],
   "source": [
    "df.shape"
   ]
  },
  {
   "cell_type": "code",
   "execution_count": 12,
   "id": "ba7c0d86",
   "metadata": {},
   "outputs": [
    {
     "data": {
      "text/plain": [
       "(15204, 7)"
      ]
     },
     "execution_count": 12,
     "metadata": {},
     "output_type": "execute_result"
    }
   ],
   "source": [
    "df2.shape"
   ]
  },
  {
   "cell_type": "code",
   "execution_count": 13,
   "id": "b1260bd4",
   "metadata": {},
   "outputs": [],
   "source": [
    "#Merging 2 datasets\n",
    "common_ids = set(df['id']).intersection(set(df2['id']))"
   ]
  },
  {
   "cell_type": "code",
   "execution_count": 14,
   "id": "b48f842d",
   "metadata": {},
   "outputs": [],
   "source": [
    "df_filtered = df[df['id'].isin(common_ids)]"
   ]
  },
  {
   "cell_type": "code",
   "execution_count": 15,
   "id": "e0575310",
   "metadata": {},
   "outputs": [],
   "source": [
    "merged_df = df_filtered.merge(df2, on='id', how='inner')"
   ]
  },
  {
   "cell_type": "raw",
   "id": "daab0971",
   "metadata": {},
   "source": [
    "merged_df.tail(10)"
   ]
  },
  {
   "cell_type": "code",
   "execution_count": 16,
   "id": "6f331af4",
   "metadata": {},
   "outputs": [
    {
     "data": {
      "text/html": [
       "<div>\n",
       "<style scoped>\n",
       "    .dataframe tbody tr th:only-of-type {\n",
       "        vertical-align: middle;\n",
       "    }\n",
       "\n",
       "    .dataframe tbody tr th {\n",
       "        vertical-align: top;\n",
       "    }\n",
       "\n",
       "    .dataframe thead th {\n",
       "        text-align: right;\n",
       "    }\n",
       "</style>\n",
       "<table border=\"1\" class=\"dataframe\">\n",
       "  <thead>\n",
       "    <tr style=\"text-align: right;\">\n",
       "      <th></th>\n",
       "      <th>id</th>\n",
       "      <th>age</th>\n",
       "      <th>gender</th>\n",
       "      <th>weight_kg</th>\n",
       "      <th>height_cm</th>\n",
       "      <th>bmi</th>\n",
       "      <th>futime</th>\n",
       "      <th>status</th>\n",
       "      <th>avg_pre_hdl</th>\n",
       "      <th>avg_post_hdl</th>\n",
       "      <th>avg_total_hdl</th>\n",
       "      <th>avg_pre_chol</th>\n",
       "      <th>avg_post_chol</th>\n",
       "      <th>avg_total_chol</th>\n",
       "    </tr>\n",
       "  </thead>\n",
       "  <tbody>\n",
       "    <tr>\n",
       "      <th>15194</th>\n",
       "      <td>17555</td>\n",
       "      <td>68</td>\n",
       "      <td>1</td>\n",
       "      <td>75.0</td>\n",
       "      <td>170.0</td>\n",
       "      <td>25.951557</td>\n",
       "      <td>1280</td>\n",
       "      <td>0</td>\n",
       "      <td>40.000000</td>\n",
       "      <td>42.000000</td>\n",
       "      <td>41.000000</td>\n",
       "      <td>40.000000</td>\n",
       "      <td>42.000000</td>\n",
       "      <td>41.000000</td>\n",
       "    </tr>\n",
       "    <tr>\n",
       "      <th>15195</th>\n",
       "      <td>17556</td>\n",
       "      <td>53</td>\n",
       "      <td>0</td>\n",
       "      <td>123.2</td>\n",
       "      <td>172.0</td>\n",
       "      <td>41.393446</td>\n",
       "      <td>1124</td>\n",
       "      <td>0</td>\n",
       "      <td>44.600000</td>\n",
       "      <td>NaN</td>\n",
       "      <td>44.600000</td>\n",
       "      <td>44.600000</td>\n",
       "      <td>NaN</td>\n",
       "      <td>44.600000</td>\n",
       "    </tr>\n",
       "    <tr>\n",
       "      <th>15196</th>\n",
       "      <td>17557</td>\n",
       "      <td>46</td>\n",
       "      <td>1</td>\n",
       "      <td>72.6</td>\n",
       "      <td>167.0</td>\n",
       "      <td>26.013913</td>\n",
       "      <td>1364</td>\n",
       "      <td>0</td>\n",
       "      <td>48.500000</td>\n",
       "      <td>55.333333</td>\n",
       "      <td>52.600000</td>\n",
       "      <td>48.500000</td>\n",
       "      <td>55.333333</td>\n",
       "      <td>52.600000</td>\n",
       "    </tr>\n",
       "    <tr>\n",
       "      <th>15197</th>\n",
       "      <td>17558</td>\n",
       "      <td>72</td>\n",
       "      <td>0</td>\n",
       "      <td>106.8</td>\n",
       "      <td>168.0</td>\n",
       "      <td>38.035584</td>\n",
       "      <td>3991</td>\n",
       "      <td>1</td>\n",
       "      <td>62.000000</td>\n",
       "      <td>68.000000</td>\n",
       "      <td>67.076923</td>\n",
       "      <td>62.000000</td>\n",
       "      <td>68.000000</td>\n",
       "      <td>67.076923</td>\n",
       "    </tr>\n",
       "    <tr>\n",
       "      <th>15198</th>\n",
       "      <td>17559</td>\n",
       "      <td>62</td>\n",
       "      <td>1</td>\n",
       "      <td>120.0</td>\n",
       "      <td>185.0</td>\n",
       "      <td>35.062089</td>\n",
       "      <td>470</td>\n",
       "      <td>0</td>\n",
       "      <td>48.000000</td>\n",
       "      <td>NaN</td>\n",
       "      <td>48.000000</td>\n",
       "      <td>48.000000</td>\n",
       "      <td>NaN</td>\n",
       "      <td>48.000000</td>\n",
       "    </tr>\n",
       "    <tr>\n",
       "      <th>15199</th>\n",
       "      <td>17560</td>\n",
       "      <td>56</td>\n",
       "      <td>0</td>\n",
       "      <td>84.6</td>\n",
       "      <td>159.0</td>\n",
       "      <td>33.296128</td>\n",
       "      <td>628</td>\n",
       "      <td>0</td>\n",
       "      <td>43.750000</td>\n",
       "      <td>NaN</td>\n",
       "      <td>43.750000</td>\n",
       "      <td>43.750000</td>\n",
       "      <td>NaN</td>\n",
       "      <td>43.750000</td>\n",
       "    </tr>\n",
       "    <tr>\n",
       "      <th>15200</th>\n",
       "      <td>17562</td>\n",
       "      <td>46</td>\n",
       "      <td>0</td>\n",
       "      <td>53.0</td>\n",
       "      <td>161.0</td>\n",
       "      <td>20.501023</td>\n",
       "      <td>1894</td>\n",
       "      <td>0</td>\n",
       "      <td>55.333333</td>\n",
       "      <td>86.000000</td>\n",
       "      <td>63.000000</td>\n",
       "      <td>55.333333</td>\n",
       "      <td>86.000000</td>\n",
       "      <td>63.000000</td>\n",
       "    </tr>\n",
       "    <tr>\n",
       "      <th>15201</th>\n",
       "      <td>17563</td>\n",
       "      <td>52</td>\n",
       "      <td>1</td>\n",
       "      <td>111.8</td>\n",
       "      <td>154.0</td>\n",
       "      <td>47.335905</td>\n",
       "      <td>3841</td>\n",
       "      <td>0</td>\n",
       "      <td>35.058824</td>\n",
       "      <td>34.894737</td>\n",
       "      <td>34.972222</td>\n",
       "      <td>35.058824</td>\n",
       "      <td>34.894737</td>\n",
       "      <td>34.972222</td>\n",
       "    </tr>\n",
       "    <tr>\n",
       "      <th>15202</th>\n",
       "      <td>17564</td>\n",
       "      <td>59</td>\n",
       "      <td>0</td>\n",
       "      <td>57.3</td>\n",
       "      <td>NaN</td>\n",
       "      <td>NaN</td>\n",
       "      <td>5081</td>\n",
       "      <td>0</td>\n",
       "      <td>54.600000</td>\n",
       "      <td>NaN</td>\n",
       "      <td>54.600000</td>\n",
       "      <td>54.600000</td>\n",
       "      <td>NaN</td>\n",
       "      <td>54.600000</td>\n",
       "    </tr>\n",
       "    <tr>\n",
       "      <th>15203</th>\n",
       "      <td>17566</td>\n",
       "      <td>69</td>\n",
       "      <td>1</td>\n",
       "      <td>94.1</td>\n",
       "      <td>180.0</td>\n",
       "      <td>29.204650</td>\n",
       "      <td>2744</td>\n",
       "      <td>0</td>\n",
       "      <td>39.000000</td>\n",
       "      <td>44.125000</td>\n",
       "      <td>41.562500</td>\n",
       "      <td>39.000000</td>\n",
       "      <td>44.125000</td>\n",
       "      <td>41.562500</td>\n",
       "    </tr>\n",
       "  </tbody>\n",
       "</table>\n",
       "</div>"
      ],
      "text/plain": [
       "          id  age  gender  weight_kg  height_cm        bmi  futime  status  \\\n",
       "15194  17555   68       1       75.0      170.0  25.951557    1280       0   \n",
       "15195  17556   53       0      123.2      172.0  41.393446    1124       0   \n",
       "15196  17557   46       1       72.6      167.0  26.013913    1364       0   \n",
       "15197  17558   72       0      106.8      168.0  38.035584    3991       1   \n",
       "15198  17559   62       1      120.0      185.0  35.062089     470       0   \n",
       "15199  17560   56       0       84.6      159.0  33.296128     628       0   \n",
       "15200  17562   46       0       53.0      161.0  20.501023    1894       0   \n",
       "15201  17563   52       1      111.8      154.0  47.335905    3841       0   \n",
       "15202  17564   59       0       57.3        NaN        NaN    5081       0   \n",
       "15203  17566   69       1       94.1      180.0  29.204650    2744       0   \n",
       "\n",
       "       avg_pre_hdl  avg_post_hdl  avg_total_hdl  avg_pre_chol  avg_post_chol  \\\n",
       "15194    40.000000     42.000000      41.000000     40.000000      42.000000   \n",
       "15195    44.600000           NaN      44.600000     44.600000            NaN   \n",
       "15196    48.500000     55.333333      52.600000     48.500000      55.333333   \n",
       "15197    62.000000     68.000000      67.076923     62.000000      68.000000   \n",
       "15198    48.000000           NaN      48.000000     48.000000            NaN   \n",
       "15199    43.750000           NaN      43.750000     43.750000            NaN   \n",
       "15200    55.333333     86.000000      63.000000     55.333333      86.000000   \n",
       "15201    35.058824     34.894737      34.972222     35.058824      34.894737   \n",
       "15202    54.600000           NaN      54.600000     54.600000            NaN   \n",
       "15203    39.000000     44.125000      41.562500     39.000000      44.125000   \n",
       "\n",
       "       avg_total_chol  \n",
       "15194       41.000000  \n",
       "15195       44.600000  \n",
       "15196       52.600000  \n",
       "15197       67.076923  \n",
       "15198       48.000000  \n",
       "15199       43.750000  \n",
       "15200       63.000000  \n",
       "15201       34.972222  \n",
       "15202       54.600000  \n",
       "15203       41.562500  "
      ]
     },
     "execution_count": 16,
     "metadata": {},
     "output_type": "execute_result"
    }
   ],
   "source": [
    "merged_df.tail(10)"
   ]
  },
  {
   "cell_type": "code",
   "execution_count": 17,
   "id": "dcba7c71",
   "metadata": {},
   "outputs": [
    {
     "data": {
      "text/html": [
       "<div>\n",
       "<style scoped>\n",
       "    .dataframe tbody tr th:only-of-type {\n",
       "        vertical-align: middle;\n",
       "    }\n",
       "\n",
       "    .dataframe tbody tr th {\n",
       "        vertical-align: top;\n",
       "    }\n",
       "\n",
       "    .dataframe thead th {\n",
       "        text-align: right;\n",
       "    }\n",
       "</style>\n",
       "<table border=\"1\" class=\"dataframe\">\n",
       "  <thead>\n",
       "    <tr style=\"text-align: right;\">\n",
       "      <th></th>\n",
       "      <th>id</th>\n",
       "      <th>age</th>\n",
       "      <th>gender</th>\n",
       "      <th>weight_kg</th>\n",
       "      <th>height_cm</th>\n",
       "      <th>bmi</th>\n",
       "      <th>futime</th>\n",
       "      <th>status</th>\n",
       "      <th>avg_pre_hdl</th>\n",
       "      <th>avg_post_hdl</th>\n",
       "      <th>avg_total_hdl</th>\n",
       "      <th>avg_pre_chol</th>\n",
       "      <th>avg_post_chol</th>\n",
       "      <th>avg_total_chol</th>\n",
       "    </tr>\n",
       "  </thead>\n",
       "  <tbody>\n",
       "    <tr>\n",
       "      <th>0</th>\n",
       "      <td>1</td>\n",
       "      <td>57</td>\n",
       "      <td>0</td>\n",
       "      <td>60.0</td>\n",
       "      <td>163.0</td>\n",
       "      <td>22.690939</td>\n",
       "      <td>6261</td>\n",
       "      <td>0</td>\n",
       "      <td>75.000000</td>\n",
       "      <td>66.750000</td>\n",
       "      <td>68.400000</td>\n",
       "      <td>75.000000</td>\n",
       "      <td>66.750000</td>\n",
       "      <td>68.400000</td>\n",
       "    </tr>\n",
       "    <tr>\n",
       "      <th>1</th>\n",
       "      <td>2</td>\n",
       "      <td>67</td>\n",
       "      <td>0</td>\n",
       "      <td>70.4</td>\n",
       "      <td>168.0</td>\n",
       "      <td>24.884028</td>\n",
       "      <td>624</td>\n",
       "      <td>0</td>\n",
       "      <td>74.166667</td>\n",
       "      <td>NaN</td>\n",
       "      <td>74.166667</td>\n",
       "      <td>74.166667</td>\n",
       "      <td>NaN</td>\n",
       "      <td>74.166667</td>\n",
       "    </tr>\n",
       "    <tr>\n",
       "      <th>2</th>\n",
       "      <td>3</td>\n",
       "      <td>53</td>\n",
       "      <td>1</td>\n",
       "      <td>105.8</td>\n",
       "      <td>186.0</td>\n",
       "      <td>30.453537</td>\n",
       "      <td>1783</td>\n",
       "      <td>0</td>\n",
       "      <td>55.666667</td>\n",
       "      <td>NaN</td>\n",
       "      <td>55.666667</td>\n",
       "      <td>55.666667</td>\n",
       "      <td>NaN</td>\n",
       "      <td>55.666667</td>\n",
       "    </tr>\n",
       "    <tr>\n",
       "      <th>3</th>\n",
       "      <td>4</td>\n",
       "      <td>56</td>\n",
       "      <td>1</td>\n",
       "      <td>109.3</td>\n",
       "      <td>170.0</td>\n",
       "      <td>37.830100</td>\n",
       "      <td>3143</td>\n",
       "      <td>0</td>\n",
       "      <td>48.714286</td>\n",
       "      <td>36.222222</td>\n",
       "      <td>41.687500</td>\n",
       "      <td>48.714286</td>\n",
       "      <td>36.222222</td>\n",
       "      <td>41.687500</td>\n",
       "    </tr>\n",
       "    <tr>\n",
       "      <th>4</th>\n",
       "      <td>5</td>\n",
       "      <td>68</td>\n",
       "      <td>1</td>\n",
       "      <td>NaN</td>\n",
       "      <td>NaN</td>\n",
       "      <td>NaN</td>\n",
       "      <td>1836</td>\n",
       "      <td>1</td>\n",
       "      <td>45.500000</td>\n",
       "      <td>44.000000</td>\n",
       "      <td>45.000000</td>\n",
       "      <td>45.500000</td>\n",
       "      <td>44.000000</td>\n",
       "      <td>45.000000</td>\n",
       "    </tr>\n",
       "  </tbody>\n",
       "</table>\n",
       "</div>"
      ],
      "text/plain": [
       "   id  age  gender  weight_kg  height_cm        bmi  futime  status  \\\n",
       "0   1   57       0       60.0      163.0  22.690939    6261       0   \n",
       "1   2   67       0       70.4      168.0  24.884028     624       0   \n",
       "2   3   53       1      105.8      186.0  30.453537    1783       0   \n",
       "3   4   56       1      109.3      170.0  37.830100    3143       0   \n",
       "4   5   68       1        NaN        NaN        NaN    1836       1   \n",
       "\n",
       "   avg_pre_hdl  avg_post_hdl  avg_total_hdl  avg_pre_chol  avg_post_chol  \\\n",
       "0    75.000000     66.750000      68.400000     75.000000      66.750000   \n",
       "1    74.166667           NaN      74.166667     74.166667            NaN   \n",
       "2    55.666667           NaN      55.666667     55.666667            NaN   \n",
       "3    48.714286     36.222222      41.687500     48.714286      36.222222   \n",
       "4    45.500000     44.000000      45.000000     45.500000      44.000000   \n",
       "\n",
       "   avg_total_chol  \n",
       "0       68.400000  \n",
       "1       74.166667  \n",
       "2       55.666667  \n",
       "3       41.687500  \n",
       "4       45.000000  "
      ]
     },
     "execution_count": 17,
     "metadata": {},
     "output_type": "execute_result"
    }
   ],
   "source": [
    "df = merged_df\n",
    "df.head()"
   ]
  },
  {
   "cell_type": "code",
   "execution_count": 18,
   "id": "7e9e3187",
   "metadata": {},
   "outputs": [
    {
     "data": {
      "text/plain": [
       "(15204, 14)"
      ]
     },
     "execution_count": 18,
     "metadata": {},
     "output_type": "execute_result"
    }
   ],
   "source": [
    "df.shape"
   ]
  },
  {
   "cell_type": "code",
   "execution_count": 19,
   "id": "4da6d1fd",
   "metadata": {},
   "outputs": [
    {
     "name": "stdout",
     "output_type": "stream",
     "text": [
      "<class 'pandas.core.frame.DataFrame'>\n",
      "Int64Index: 15204 entries, 0 to 15203\n",
      "Data columns (total 14 columns):\n",
      " #   Column          Non-Null Count  Dtype  \n",
      "---  ------          --------------  -----  \n",
      " 0   id              15204 non-null  int64  \n",
      " 1   age             15204 non-null  int64  \n",
      " 2   gender          15204 non-null  int64  \n",
      " 3   weight_kg       12125 non-null  float64\n",
      " 4   height_cm       13586 non-null  float64\n",
      " 5   bmi             12027 non-null  float64\n",
      " 6   futime          15204 non-null  int64  \n",
      " 7   status          15204 non-null  int64  \n",
      " 8   avg_pre_hdl     13985 non-null  float64\n",
      " 9   avg_post_hdl    12762 non-null  float64\n",
      " 10  avg_total_hdl   15204 non-null  float64\n",
      " 11  avg_pre_chol    13985 non-null  float64\n",
      " 12  avg_post_chol   12762 non-null  float64\n",
      " 13  avg_total_chol  15204 non-null  float64\n",
      "dtypes: float64(9), int64(5)\n",
      "memory usage: 1.7 MB\n"
     ]
    }
   ],
   "source": [
    "df.info()"
   ]
  },
  {
   "cell_type": "code",
   "execution_count": 20,
   "id": "c02cea83",
   "metadata": {},
   "outputs": [
    {
     "data": {
      "text/html": [
       "<div>\n",
       "<style scoped>\n",
       "    .dataframe tbody tr th:only-of-type {\n",
       "        vertical-align: middle;\n",
       "    }\n",
       "\n",
       "    .dataframe tbody tr th {\n",
       "        vertical-align: top;\n",
       "    }\n",
       "\n",
       "    .dataframe thead th {\n",
       "        text-align: right;\n",
       "    }\n",
       "</style>\n",
       "<table border=\"1\" class=\"dataframe\">\n",
       "  <thead>\n",
       "    <tr style=\"text-align: right;\">\n",
       "      <th></th>\n",
       "      <th>id</th>\n",
       "      <th>age</th>\n",
       "      <th>gender</th>\n",
       "      <th>weight_kg</th>\n",
       "      <th>height_cm</th>\n",
       "      <th>bmi</th>\n",
       "      <th>futime</th>\n",
       "      <th>status</th>\n",
       "      <th>avg_pre_hdl</th>\n",
       "      <th>avg_post_hdl</th>\n",
       "      <th>avg_total_hdl</th>\n",
       "      <th>avg_pre_chol</th>\n",
       "      <th>avg_post_chol</th>\n",
       "      <th>avg_total_chol</th>\n",
       "    </tr>\n",
       "  </thead>\n",
       "  <tbody>\n",
       "    <tr>\n",
       "      <th>count</th>\n",
       "      <td>15204.000000</td>\n",
       "      <td>15204.000000</td>\n",
       "      <td>15204.000000</td>\n",
       "      <td>12125.000000</td>\n",
       "      <td>13586.000000</td>\n",
       "      <td>12027.000000</td>\n",
       "      <td>15204.000000</td>\n",
       "      <td>15204.00000</td>\n",
       "      <td>13985.000000</td>\n",
       "      <td>12762.000000</td>\n",
       "      <td>15204.000000</td>\n",
       "      <td>13985.000000</td>\n",
       "      <td>12762.000000</td>\n",
       "      <td>15204.000000</td>\n",
       "    </tr>\n",
       "    <tr>\n",
       "      <th>mean</th>\n",
       "      <td>8792.231123</td>\n",
       "      <td>53.760260</td>\n",
       "      <td>0.457840</td>\n",
       "      <td>86.751348</td>\n",
       "      <td>169.385102</td>\n",
       "      <td>30.210779</td>\n",
       "      <td>2448.695409</td>\n",
       "      <td>0.07748</td>\n",
       "      <td>52.243175</td>\n",
       "      <td>53.348922</td>\n",
       "      <td>52.713798</td>\n",
       "      <td>52.243175</td>\n",
       "      <td>53.348922</td>\n",
       "      <td>52.713798</td>\n",
       "    </tr>\n",
       "    <tr>\n",
       "      <th>std</th>\n",
       "      <td>5061.277621</td>\n",
       "      <td>14.114116</td>\n",
       "      <td>0.498236</td>\n",
       "      <td>22.280495</td>\n",
       "      <td>10.121147</td>\n",
       "      <td>7.098583</td>\n",
       "      <td>1561.566587</td>\n",
       "      <td>0.26736</td>\n",
       "      <td>14.888351</td>\n",
       "      <td>17.057529</td>\n",
       "      <td>15.206297</td>\n",
       "      <td>14.888351</td>\n",
       "      <td>17.057529</td>\n",
       "      <td>15.206297</td>\n",
       "    </tr>\n",
       "    <tr>\n",
       "      <th>min</th>\n",
       "      <td>1.000000</td>\n",
       "      <td>18.000000</td>\n",
       "      <td>0.000000</td>\n",
       "      <td>33.400000</td>\n",
       "      <td>123.000000</td>\n",
       "      <td>9.207332</td>\n",
       "      <td>7.000000</td>\n",
       "      <td>0.00000</td>\n",
       "      <td>3.000000</td>\n",
       "      <td>13.000000</td>\n",
       "      <td>3.000000</td>\n",
       "      <td>3.000000</td>\n",
       "      <td>13.000000</td>\n",
       "      <td>3.000000</td>\n",
       "    </tr>\n",
       "    <tr>\n",
       "      <th>25%</th>\n",
       "      <td>4418.750000</td>\n",
       "      <td>44.000000</td>\n",
       "      <td>0.000000</td>\n",
       "      <td>70.500000</td>\n",
       "      <td>162.000000</td>\n",
       "      <td>25.246400</td>\n",
       "      <td>1180.000000</td>\n",
       "      <td>0.00000</td>\n",
       "      <td>41.500000</td>\n",
       "      <td>41.000000</td>\n",
       "      <td>41.666667</td>\n",
       "      <td>41.500000</td>\n",
       "      <td>41.000000</td>\n",
       "      <td>41.666667</td>\n",
       "    </tr>\n",
       "    <tr>\n",
       "      <th>50%</th>\n",
       "      <td>8804.000000</td>\n",
       "      <td>53.000000</td>\n",
       "      <td>0.000000</td>\n",
       "      <td>84.200000</td>\n",
       "      <td>169.000000</td>\n",
       "      <td>29.017523</td>\n",
       "      <td>2197.500000</td>\n",
       "      <td>0.00000</td>\n",
       "      <td>49.900000</td>\n",
       "      <td>50.125000</td>\n",
       "      <td>50.200000</td>\n",
       "      <td>49.900000</td>\n",
       "      <td>50.125000</td>\n",
       "      <td>50.200000</td>\n",
       "    </tr>\n",
       "    <tr>\n",
       "      <th>75%</th>\n",
       "      <td>13159.250000</td>\n",
       "      <td>64.000000</td>\n",
       "      <td>1.000000</td>\n",
       "      <td>99.700000</td>\n",
       "      <td>177.000000</td>\n",
       "      <td>33.890430</td>\n",
       "      <td>3388.250000</td>\n",
       "      <td>0.00000</td>\n",
       "      <td>60.750000</td>\n",
       "      <td>62.611538</td>\n",
       "      <td>61.333333</td>\n",
       "      <td>60.750000</td>\n",
       "      <td>62.611538</td>\n",
       "      <td>61.333333</td>\n",
       "    </tr>\n",
       "    <tr>\n",
       "      <th>max</th>\n",
       "      <td>17566.000000</td>\n",
       "      <td>98.000000</td>\n",
       "      <td>1.000000</td>\n",
       "      <td>181.700000</td>\n",
       "      <td>215.000000</td>\n",
       "      <td>84.395725</td>\n",
       "      <td>7245.000000</td>\n",
       "      <td>1.00000</td>\n",
       "      <td>179.800000</td>\n",
       "      <td>190.000000</td>\n",
       "      <td>165.777778</td>\n",
       "      <td>179.800000</td>\n",
       "      <td>190.000000</td>\n",
       "      <td>165.777778</td>\n",
       "    </tr>\n",
       "  </tbody>\n",
       "</table>\n",
       "</div>"
      ],
      "text/plain": [
       "                 id           age        gender     weight_kg     height_cm  \\\n",
       "count  15204.000000  15204.000000  15204.000000  12125.000000  13586.000000   \n",
       "mean    8792.231123     53.760260      0.457840     86.751348    169.385102   \n",
       "std     5061.277621     14.114116      0.498236     22.280495     10.121147   \n",
       "min        1.000000     18.000000      0.000000     33.400000    123.000000   \n",
       "25%     4418.750000     44.000000      0.000000     70.500000    162.000000   \n",
       "50%     8804.000000     53.000000      0.000000     84.200000    169.000000   \n",
       "75%    13159.250000     64.000000      1.000000     99.700000    177.000000   \n",
       "max    17566.000000     98.000000      1.000000    181.700000    215.000000   \n",
       "\n",
       "                bmi        futime       status   avg_pre_hdl  avg_post_hdl  \\\n",
       "count  12027.000000  15204.000000  15204.00000  13985.000000  12762.000000   \n",
       "mean      30.210779   2448.695409      0.07748     52.243175     53.348922   \n",
       "std        7.098583   1561.566587      0.26736     14.888351     17.057529   \n",
       "min        9.207332      7.000000      0.00000      3.000000     13.000000   \n",
       "25%       25.246400   1180.000000      0.00000     41.500000     41.000000   \n",
       "50%       29.017523   2197.500000      0.00000     49.900000     50.125000   \n",
       "75%       33.890430   3388.250000      0.00000     60.750000     62.611538   \n",
       "max       84.395725   7245.000000      1.00000    179.800000    190.000000   \n",
       "\n",
       "       avg_total_hdl  avg_pre_chol  avg_post_chol  avg_total_chol  \n",
       "count   15204.000000  13985.000000   12762.000000    15204.000000  \n",
       "mean       52.713798     52.243175      53.348922       52.713798  \n",
       "std        15.206297     14.888351      17.057529       15.206297  \n",
       "min         3.000000      3.000000      13.000000        3.000000  \n",
       "25%        41.666667     41.500000      41.000000       41.666667  \n",
       "50%        50.200000     49.900000      50.125000       50.200000  \n",
       "75%        61.333333     60.750000      62.611538       61.333333  \n",
       "max       165.777778    179.800000     190.000000      165.777778  "
      ]
     },
     "execution_count": 20,
     "metadata": {},
     "output_type": "execute_result"
    }
   ],
   "source": [
    "df.describe()"
   ]
  },
  {
   "cell_type": "code",
   "execution_count": 21,
   "id": "47ebd703",
   "metadata": {},
   "outputs": [
    {
     "data": {
      "text/plain": [
       "id                   0\n",
       "age                  0\n",
       "gender               0\n",
       "weight_kg         3079\n",
       "height_cm         1618\n",
       "bmi               3177\n",
       "futime               0\n",
       "status               0\n",
       "avg_pre_hdl       1219\n",
       "avg_post_hdl      2442\n",
       "avg_total_hdl        0\n",
       "avg_pre_chol      1219\n",
       "avg_post_chol     2442\n",
       "avg_total_chol       0\n",
       "dtype: int64"
      ]
     },
     "execution_count": 21,
     "metadata": {},
     "output_type": "execute_result"
    }
   ],
   "source": [
    "df.isnull().sum()"
   ]
  },
  {
   "cell_type": "code",
   "execution_count": 22,
   "id": "97d28f3c",
   "metadata": {},
   "outputs": [
    {
     "data": {
      "text/plain": [
       "array([0, 1], dtype=int64)"
      ]
     },
     "execution_count": 22,
     "metadata": {},
     "output_type": "execute_result"
    }
   ],
   "source": [
    "#Handling missing values of height, weight and BMI\n",
    "df[\"gender\"].unique()"
   ]
  },
  {
   "cell_type": "code",
   "execution_count": 23,
   "id": "19af3c7d",
   "metadata": {},
   "outputs": [
    {
     "data": {
      "text/html": [
       "<div>\n",
       "<style scoped>\n",
       "    .dataframe tbody tr th:only-of-type {\n",
       "        vertical-align: middle;\n",
       "    }\n",
       "\n",
       "    .dataframe tbody tr th {\n",
       "        vertical-align: top;\n",
       "    }\n",
       "\n",
       "    .dataframe thead th {\n",
       "        text-align: right;\n",
       "    }\n",
       "</style>\n",
       "<table border=\"1\" class=\"dataframe\">\n",
       "  <thead>\n",
       "    <tr style=\"text-align: right;\">\n",
       "      <th></th>\n",
       "      <th>id</th>\n",
       "      <th>age</th>\n",
       "      <th>gender</th>\n",
       "      <th>weight_kg</th>\n",
       "      <th>height_cm</th>\n",
       "      <th>bmi</th>\n",
       "      <th>futime</th>\n",
       "      <th>status</th>\n",
       "      <th>avg_pre_hdl</th>\n",
       "      <th>avg_post_hdl</th>\n",
       "      <th>avg_total_hdl</th>\n",
       "      <th>avg_pre_chol</th>\n",
       "      <th>avg_post_chol</th>\n",
       "      <th>avg_total_chol</th>\n",
       "    </tr>\n",
       "  </thead>\n",
       "  <tbody>\n",
       "    <tr>\n",
       "      <th>0</th>\n",
       "      <td>1</td>\n",
       "      <td>57</td>\n",
       "      <td>female</td>\n",
       "      <td>60.0</td>\n",
       "      <td>163.0</td>\n",
       "      <td>22.690939</td>\n",
       "      <td>6261</td>\n",
       "      <td>0</td>\n",
       "      <td>75.000000</td>\n",
       "      <td>66.75</td>\n",
       "      <td>68.400000</td>\n",
       "      <td>75.000000</td>\n",
       "      <td>66.75</td>\n",
       "      <td>68.400000</td>\n",
       "    </tr>\n",
       "    <tr>\n",
       "      <th>1</th>\n",
       "      <td>2</td>\n",
       "      <td>67</td>\n",
       "      <td>female</td>\n",
       "      <td>70.4</td>\n",
       "      <td>168.0</td>\n",
       "      <td>24.884028</td>\n",
       "      <td>624</td>\n",
       "      <td>0</td>\n",
       "      <td>74.166667</td>\n",
       "      <td>NaN</td>\n",
       "      <td>74.166667</td>\n",
       "      <td>74.166667</td>\n",
       "      <td>NaN</td>\n",
       "      <td>74.166667</td>\n",
       "    </tr>\n",
       "  </tbody>\n",
       "</table>\n",
       "</div>"
      ],
      "text/plain": [
       "   id  age  gender  weight_kg  height_cm        bmi  futime  status  \\\n",
       "0   1   57  female       60.0      163.0  22.690939    6261       0   \n",
       "1   2   67  female       70.4      168.0  24.884028     624       0   \n",
       "\n",
       "   avg_pre_hdl  avg_post_hdl  avg_total_hdl  avg_pre_chol  avg_post_chol  \\\n",
       "0    75.000000         66.75      68.400000     75.000000          66.75   \n",
       "1    74.166667           NaN      74.166667     74.166667            NaN   \n",
       "\n",
       "   avg_total_chol  \n",
       "0       68.400000  \n",
       "1       74.166667  "
      ]
     },
     "execution_count": 23,
     "metadata": {},
     "output_type": "execute_result"
    }
   ],
   "source": [
    "df['gender'] = df['gender'].replace([0,1],['female','male'])\n",
    "df.head(2)"
   ]
  },
  {
   "cell_type": "code",
   "execution_count": 24,
   "id": "3bcad4c0",
   "metadata": {},
   "outputs": [],
   "source": [
    "df['weight_kg'] = df.groupby('gender', group_keys=False)['weight_kg'].apply(lambda x: x.fillna(x.mean())).reset_index(drop=True)\n",
    "df['height_cm'] = df.groupby('gender', group_keys=False)['height_cm'].apply(lambda x: x.fillna(x.mean())).reset_index(drop=True)\n",
    "df['bmi'] = df.apply(lambda row: row['weight_kg'] / ((row['height_cm'] / 100) ** 2) if pd.isna(row['bmi']) else row['bmi'], axis=1)"
   ]
  },
  {
   "cell_type": "code",
   "execution_count": 25,
   "id": "6d737497",
   "metadata": {},
   "outputs": [
    {
     "data": {
      "text/plain": [
       "id                   0\n",
       "age                  0\n",
       "gender               0\n",
       "weight_kg            0\n",
       "height_cm            0\n",
       "bmi                  0\n",
       "futime               0\n",
       "status               0\n",
       "avg_pre_hdl       1219\n",
       "avg_post_hdl      2442\n",
       "avg_total_hdl        0\n",
       "avg_pre_chol      1219\n",
       "avg_post_chol     2442\n",
       "avg_total_chol       0\n",
       "dtype: int64"
      ]
     },
     "execution_count": 25,
     "metadata": {},
     "output_type": "execute_result"
    }
   ],
   "source": [
    "df.isnull().sum()"
   ]
  },
  {
   "cell_type": "code",
   "execution_count": 26,
   "id": "3ea9738c",
   "metadata": {},
   "outputs": [],
   "source": [
    "#Now handling the missing values of pre and post hdl and chol values\n",
    "columns_to_check = ['avg_pre_hdl', 'avg_post_hdl', 'avg_pre_chol', 'avg_post_chol']\n",
    "df_dropped_missing = df.dropna(subset=columns_to_check)\n"
   ]
  },
  {
   "cell_type": "code",
   "execution_count": 27,
   "id": "be6d9e0c",
   "metadata": {},
   "outputs": [
    {
     "data": {
      "text/plain": [
       "id                0\n",
       "age               0\n",
       "gender            0\n",
       "weight_kg         0\n",
       "height_cm         0\n",
       "bmi               0\n",
       "futime            0\n",
       "status            0\n",
       "avg_pre_hdl       0\n",
       "avg_post_hdl      0\n",
       "avg_total_hdl     0\n",
       "avg_pre_chol      0\n",
       "avg_post_chol     0\n",
       "avg_total_chol    0\n",
       "dtype: int64"
      ]
     },
     "execution_count": 27,
     "metadata": {},
     "output_type": "execute_result"
    }
   ],
   "source": [
    "df_dropped_missing.isnull().sum()"
   ]
  },
  {
   "cell_type": "code",
   "execution_count": 28,
   "id": "02e6fc8d",
   "metadata": {},
   "outputs": [
    {
     "data": {
      "text/plain": [
       "(11543, 14)"
      ]
     },
     "execution_count": 28,
     "metadata": {},
     "output_type": "execute_result"
    }
   ],
   "source": [
    "df = df_dropped_missing\n",
    "df.shape"
   ]
  },
  {
   "cell_type": "code",
   "execution_count": 29,
   "id": "bf799204",
   "metadata": {},
   "outputs": [],
   "source": [
    "#Perform one hot encoding \n",
    "df = pd.get_dummies(df, columns=['gender'])"
   ]
  },
  {
   "cell_type": "code",
   "execution_count": 30,
   "id": "0135362a",
   "metadata": {},
   "outputs": [
    {
     "data": {
      "text/html": [
       "<div>\n",
       "<style scoped>\n",
       "    .dataframe tbody tr th:only-of-type {\n",
       "        vertical-align: middle;\n",
       "    }\n",
       "\n",
       "    .dataframe tbody tr th {\n",
       "        vertical-align: top;\n",
       "    }\n",
       "\n",
       "    .dataframe thead th {\n",
       "        text-align: right;\n",
       "    }\n",
       "</style>\n",
       "<table border=\"1\" class=\"dataframe\">\n",
       "  <thead>\n",
       "    <tr style=\"text-align: right;\">\n",
       "      <th></th>\n",
       "      <th>id</th>\n",
       "      <th>age</th>\n",
       "      <th>weight_kg</th>\n",
       "      <th>height_cm</th>\n",
       "      <th>bmi</th>\n",
       "      <th>futime</th>\n",
       "      <th>status</th>\n",
       "      <th>avg_pre_hdl</th>\n",
       "      <th>avg_post_hdl</th>\n",
       "      <th>avg_total_hdl</th>\n",
       "      <th>avg_pre_chol</th>\n",
       "      <th>avg_post_chol</th>\n",
       "      <th>avg_total_chol</th>\n",
       "      <th>gender_female</th>\n",
       "      <th>gender_male</th>\n",
       "    </tr>\n",
       "  </thead>\n",
       "  <tbody>\n",
       "    <tr>\n",
       "      <th>0</th>\n",
       "      <td>1</td>\n",
       "      <td>57</td>\n",
       "      <td>60.000000</td>\n",
       "      <td>163.000000</td>\n",
       "      <td>22.690939</td>\n",
       "      <td>6261</td>\n",
       "      <td>0</td>\n",
       "      <td>75.000000</td>\n",
       "      <td>66.750000</td>\n",
       "      <td>68.400000</td>\n",
       "      <td>75.000000</td>\n",
       "      <td>66.750000</td>\n",
       "      <td>68.400000</td>\n",
       "      <td>1</td>\n",
       "      <td>0</td>\n",
       "    </tr>\n",
       "    <tr>\n",
       "      <th>3</th>\n",
       "      <td>4</td>\n",
       "      <td>56</td>\n",
       "      <td>109.300000</td>\n",
       "      <td>170.000000</td>\n",
       "      <td>37.830100</td>\n",
       "      <td>3143</td>\n",
       "      <td>0</td>\n",
       "      <td>48.714286</td>\n",
       "      <td>36.222222</td>\n",
       "      <td>41.687500</td>\n",
       "      <td>48.714286</td>\n",
       "      <td>36.222222</td>\n",
       "      <td>41.687500</td>\n",
       "      <td>0</td>\n",
       "      <td>1</td>\n",
       "    </tr>\n",
       "    <tr>\n",
       "      <th>4</th>\n",
       "      <td>5</td>\n",
       "      <td>68</td>\n",
       "      <td>95.303713</td>\n",
       "      <td>177.094254</td>\n",
       "      <td>30.387914</td>\n",
       "      <td>1836</td>\n",
       "      <td>1</td>\n",
       "      <td>45.500000</td>\n",
       "      <td>44.000000</td>\n",
       "      <td>45.000000</td>\n",
       "      <td>45.500000</td>\n",
       "      <td>44.000000</td>\n",
       "      <td>45.000000</td>\n",
       "      <td>0</td>\n",
       "      <td>1</td>\n",
       "    </tr>\n",
       "    <tr>\n",
       "      <th>5</th>\n",
       "      <td>6</td>\n",
       "      <td>39</td>\n",
       "      <td>63.900000</td>\n",
       "      <td>155.000000</td>\n",
       "      <td>26.615590</td>\n",
       "      <td>1581</td>\n",
       "      <td>0</td>\n",
       "      <td>50.000000</td>\n",
       "      <td>69.000000</td>\n",
       "      <td>57.600000</td>\n",
       "      <td>50.000000</td>\n",
       "      <td>69.000000</td>\n",
       "      <td>57.600000</td>\n",
       "      <td>1</td>\n",
       "      <td>0</td>\n",
       "    </tr>\n",
       "    <tr>\n",
       "      <th>6</th>\n",
       "      <td>7</td>\n",
       "      <td>49</td>\n",
       "      <td>66.200000</td>\n",
       "      <td>161.000000</td>\n",
       "      <td>25.519339</td>\n",
       "      <td>3109</td>\n",
       "      <td>0</td>\n",
       "      <td>61.444444</td>\n",
       "      <td>77.583333</td>\n",
       "      <td>70.666667</td>\n",
       "      <td>61.444444</td>\n",
       "      <td>77.583333</td>\n",
       "      <td>70.666667</td>\n",
       "      <td>1</td>\n",
       "      <td>0</td>\n",
       "    </tr>\n",
       "    <tr>\n",
       "      <th>...</th>\n",
       "      <td>...</td>\n",
       "      <td>...</td>\n",
       "      <td>...</td>\n",
       "      <td>...</td>\n",
       "      <td>...</td>\n",
       "      <td>...</td>\n",
       "      <td>...</td>\n",
       "      <td>...</td>\n",
       "      <td>...</td>\n",
       "      <td>...</td>\n",
       "      <td>...</td>\n",
       "      <td>...</td>\n",
       "      <td>...</td>\n",
       "      <td>...</td>\n",
       "      <td>...</td>\n",
       "    </tr>\n",
       "    <tr>\n",
       "      <th>15196</th>\n",
       "      <td>17557</td>\n",
       "      <td>46</td>\n",
       "      <td>72.600000</td>\n",
       "      <td>167.000000</td>\n",
       "      <td>26.013913</td>\n",
       "      <td>1364</td>\n",
       "      <td>0</td>\n",
       "      <td>48.500000</td>\n",
       "      <td>55.333333</td>\n",
       "      <td>52.600000</td>\n",
       "      <td>48.500000</td>\n",
       "      <td>55.333333</td>\n",
       "      <td>52.600000</td>\n",
       "      <td>0</td>\n",
       "      <td>1</td>\n",
       "    </tr>\n",
       "    <tr>\n",
       "      <th>15197</th>\n",
       "      <td>17558</td>\n",
       "      <td>72</td>\n",
       "      <td>106.800000</td>\n",
       "      <td>168.000000</td>\n",
       "      <td>38.035584</td>\n",
       "      <td>3991</td>\n",
       "      <td>1</td>\n",
       "      <td>62.000000</td>\n",
       "      <td>68.000000</td>\n",
       "      <td>67.076923</td>\n",
       "      <td>62.000000</td>\n",
       "      <td>68.000000</td>\n",
       "      <td>67.076923</td>\n",
       "      <td>1</td>\n",
       "      <td>0</td>\n",
       "    </tr>\n",
       "    <tr>\n",
       "      <th>15200</th>\n",
       "      <td>17562</td>\n",
       "      <td>46</td>\n",
       "      <td>53.000000</td>\n",
       "      <td>161.000000</td>\n",
       "      <td>20.501023</td>\n",
       "      <td>1894</td>\n",
       "      <td>0</td>\n",
       "      <td>55.333333</td>\n",
       "      <td>86.000000</td>\n",
       "      <td>63.000000</td>\n",
       "      <td>55.333333</td>\n",
       "      <td>86.000000</td>\n",
       "      <td>63.000000</td>\n",
       "      <td>1</td>\n",
       "      <td>0</td>\n",
       "    </tr>\n",
       "    <tr>\n",
       "      <th>15201</th>\n",
       "      <td>17563</td>\n",
       "      <td>52</td>\n",
       "      <td>111.800000</td>\n",
       "      <td>154.000000</td>\n",
       "      <td>47.335905</td>\n",
       "      <td>3841</td>\n",
       "      <td>0</td>\n",
       "      <td>35.058824</td>\n",
       "      <td>34.894737</td>\n",
       "      <td>34.972222</td>\n",
       "      <td>35.058824</td>\n",
       "      <td>34.894737</td>\n",
       "      <td>34.972222</td>\n",
       "      <td>0</td>\n",
       "      <td>1</td>\n",
       "    </tr>\n",
       "    <tr>\n",
       "      <th>15203</th>\n",
       "      <td>17566</td>\n",
       "      <td>69</td>\n",
       "      <td>94.100000</td>\n",
       "      <td>180.000000</td>\n",
       "      <td>29.204650</td>\n",
       "      <td>2744</td>\n",
       "      <td>0</td>\n",
       "      <td>39.000000</td>\n",
       "      <td>44.125000</td>\n",
       "      <td>41.562500</td>\n",
       "      <td>39.000000</td>\n",
       "      <td>44.125000</td>\n",
       "      <td>41.562500</td>\n",
       "      <td>0</td>\n",
       "      <td>1</td>\n",
       "    </tr>\n",
       "  </tbody>\n",
       "</table>\n",
       "<p>11543 rows × 15 columns</p>\n",
       "</div>"
      ],
      "text/plain": [
       "          id  age   weight_kg   height_cm        bmi  futime  status  \\\n",
       "0          1   57   60.000000  163.000000  22.690939    6261       0   \n",
       "3          4   56  109.300000  170.000000  37.830100    3143       0   \n",
       "4          5   68   95.303713  177.094254  30.387914    1836       1   \n",
       "5          6   39   63.900000  155.000000  26.615590    1581       0   \n",
       "6          7   49   66.200000  161.000000  25.519339    3109       0   \n",
       "...      ...  ...         ...         ...        ...     ...     ...   \n",
       "15196  17557   46   72.600000  167.000000  26.013913    1364       0   \n",
       "15197  17558   72  106.800000  168.000000  38.035584    3991       1   \n",
       "15200  17562   46   53.000000  161.000000  20.501023    1894       0   \n",
       "15201  17563   52  111.800000  154.000000  47.335905    3841       0   \n",
       "15203  17566   69   94.100000  180.000000  29.204650    2744       0   \n",
       "\n",
       "       avg_pre_hdl  avg_post_hdl  avg_total_hdl  avg_pre_chol  avg_post_chol  \\\n",
       "0        75.000000     66.750000      68.400000     75.000000      66.750000   \n",
       "3        48.714286     36.222222      41.687500     48.714286      36.222222   \n",
       "4        45.500000     44.000000      45.000000     45.500000      44.000000   \n",
       "5        50.000000     69.000000      57.600000     50.000000      69.000000   \n",
       "6        61.444444     77.583333      70.666667     61.444444      77.583333   \n",
       "...            ...           ...            ...           ...            ...   \n",
       "15196    48.500000     55.333333      52.600000     48.500000      55.333333   \n",
       "15197    62.000000     68.000000      67.076923     62.000000      68.000000   \n",
       "15200    55.333333     86.000000      63.000000     55.333333      86.000000   \n",
       "15201    35.058824     34.894737      34.972222     35.058824      34.894737   \n",
       "15203    39.000000     44.125000      41.562500     39.000000      44.125000   \n",
       "\n",
       "       avg_total_chol  gender_female  gender_male  \n",
       "0           68.400000              1            0  \n",
       "3           41.687500              0            1  \n",
       "4           45.000000              0            1  \n",
       "5           57.600000              1            0  \n",
       "6           70.666667              1            0  \n",
       "...               ...            ...          ...  \n",
       "15196       52.600000              0            1  \n",
       "15197       67.076923              1            0  \n",
       "15200       63.000000              1            0  \n",
       "15201       34.972222              0            1  \n",
       "15203       41.562500              0            1  \n",
       "\n",
       "[11543 rows x 15 columns]"
      ]
     },
     "execution_count": 30,
     "metadata": {},
     "output_type": "execute_result"
    }
   ],
   "source": [
    "df"
   ]
  },
  {
   "cell_type": "code",
   "execution_count": 31,
   "id": "894fa660",
   "metadata": {},
   "outputs": [],
   "source": [
    "#columns = ['age','weight_kg','height_cm','bmi','futime','status','avg_pre_hdl','avg_post_hdl','avg_total_hdl','avg_pre_chol',\n",
    "#         'avg_post_chol','avg_total_chol','gender_male','gender_female']\n",
    "columns =  ['age','bmi','futime','status','avg_pre_hdl','avg_post_hdl','avg_total_hdl','avg_pre_chol',\n",
    "         'avg_post_chol','avg_total_chol','gender_male','gender_female']\n",
    "df = df.loc[:,columns]\n",
    "#features = ['age','weight_kg','height_cm','bmi','futime','avg_pre_hdl','avg_post_hdl','avg_total_hdl','avg_pre_chol',\n",
    "#            'avg_post_chol','avg_total_chol','gender_male','gender_female']\n",
    "features = ['age','bmi','futime','avg_pre_hdl','avg_post_hdl','avg_total_hdl','avg_pre_chol',\n",
    "            'avg_post_chol','avg_total_chol','gender_male','gender_female']\n",
    "x = df.loc[:,features]\n",
    "y = df.loc[:,['status']]\n",
    "\n",
    "from sklearn.model_selection import train_test_split\n",
    "from sklearn.datasets import load_iris\n",
    "x_train,x_test,y_train,y_test=train_test_split(x,y,test_size=0.2,random_state=123)"
   ]
  },
  {
   "cell_type": "code",
   "execution_count": 32,
   "id": "2ad82fa4",
   "metadata": {},
   "outputs": [],
   "source": [
    "# Import models and utility functions\n",
    "from sklearn.ensemble import GradientBoostingClassifier\n",
    "from sklearn.model_selection import train_test_split\n",
    "from sklearn.metrics import accuracy_score\n",
    "from sklearn.datasets import load_digits"
   ]
  },
  {
   "cell_type": "code",
   "execution_count": 33,
   "id": "01615a49",
   "metadata": {},
   "outputs": [
    {
     "name": "stderr",
     "output_type": "stream",
     "text": [
      "C:\\Users\\Isini\\anaconda3\\lib\\site-packages\\sklearn\\ensemble\\_gb.py:437: DataConversionWarning: A column-vector y was passed when a 1d array was expected. Please change the shape of y to (n_samples, ), for example using ravel().\n",
      "  y = column_or_1d(y, warn=True)\n"
     ]
    },
    {
     "name": "stdout",
     "output_type": "stream",
     "text": [
      "Gradient Boosting Classifier accuracy is : 0.93\n"
     ]
    }
   ],
   "source": [
    "# Setting SEED for reproducibility\n",
    "SEED = 23\n",
    "# Instantiate Gradient Boosting Regressor\n",
    "gbc = GradientBoostingClassifier(n_estimators=300,\n",
    "                                 learning_rate=0.05,\n",
    "                                 random_state=100,\n",
    "                                 max_features=5 )\n",
    "# Fit to training set\n",
    "gbc.fit(x_train, y_train)\n",
    " \n",
    "# Predict on test set\n",
    "pred_y = gbc.predict(x_test)\n",
    " \n",
    "# accuracy\n",
    "acc = accuracy_score(y_test, pred_y)\n",
    "print(\"Gradient Boosting Classifier accuracy is : {:.2f}\".format(acc))"
   ]
  },
  {
   "cell_type": "code",
   "execution_count": 34,
   "id": "2365bb1c",
   "metadata": {},
   "outputs": [
    {
     "name": "stdout",
     "output_type": "stream",
     "text": [
      "Accuracy: 0.93\n",
      "F1 Score: 0.18\n",
      "              precision    recall  f1-score   support\n",
      "\n",
      "           0       0.94      0.99      0.97      2154\n",
      "           1       0.53      0.11      0.18       155\n",
      "\n",
      "    accuracy                           0.93      2309\n",
      "   macro avg       0.74      0.55      0.57      2309\n",
      "weighted avg       0.91      0.93      0.91      2309\n",
      "\n"
     ]
    }
   ],
   "source": [
    "from sklearn.metrics import classification_report\n",
    "f1 = f1_score(y_test, pred_y)\n",
    "accuracy = accuracy_score(y_test, pred_y)\n",
    "\n",
    "print(f'Accuracy: {accuracy:.2f}')\n",
    "print(f'F1 Score: {f1:.2f}')\n",
    "print(classification_report(y_test, pred_y))"
   ]
  },
  {
   "cell_type": "markdown",
   "id": "05e3c818",
   "metadata": {},
   "source": [
    "https://www.analyticsvidhya.com/blog/2021/09/gradient-boosting-algorithm-a-complete-guide-for-beginners/"
   ]
  },
  {
   "cell_type": "markdown",
   "id": "9e739775",
   "metadata": {},
   "source": [
    "## hyperparameter tuning"
   ]
  },
  {
   "cell_type": "markdown",
   "id": "7ab662b7",
   "metadata": {},
   "source": [
    "from sklearn.model_selection import GridSearchCV\n",
    "parameters =[{\"learning_rate\":[1, 0.5, 0.25, 0.1, 0.05, 0.01],\n",
    "\"max_depth\":[1,2,3,4,5,6,7,8,9,10],\n",
    "\"min_samples_split\":[0.1,0.2,0.3],\n",
    "\"min_samples_leaf\":[0.1,0.2,0.3,0.4],\n",
    "\"max_features\":[1,2,3,4,5,6,7]}]\n",
    "grid_search= GridSearchCV(estimator=gbc,param_grid=parameters,scoring='accuracy',cv=3,n_jobs=-1,verbose=10)\n",
    "grid_search = grid_search.fit(x_train, y_train)"
   ]
  },
  {
   "cell_type": "markdown",
   "id": "e7876b1f",
   "metadata": {},
   "source": [
    "accuracy = grid_search.best_score_\n",
    "accuracy"
   ]
  },
  {
   "cell_type": "markdown",
   "id": "99dcfcb9",
   "metadata": {},
   "source": [
    "grid_search.best_params_"
   ]
  },
  {
   "cell_type": "code",
   "execution_count": 35,
   "id": "98ef7c7c",
   "metadata": {},
   "outputs": [],
   "source": [
    "gbc_tuned = GradientBoostingClassifier(n_estimators=300,\n",
    "                                 learning_rate=0.05,\n",
    "                                 random_state=100,\n",
    "                                 max_features=6,\n",
    "                                min_samples_leaf=0.1,\n",
    "                                min_samples_split=0.1,\n",
    "                                max_depth=2)"
   ]
  },
  {
   "cell_type": "code",
   "execution_count": 36,
   "id": "d7a92e50",
   "metadata": {},
   "outputs": [
    {
     "name": "stderr",
     "output_type": "stream",
     "text": [
      "C:\\Users\\Isini\\anaconda3\\lib\\site-packages\\sklearn\\ensemble\\_gb.py:437: DataConversionWarning: A column-vector y was passed when a 1d array was expected. Please change the shape of y to (n_samples, ), for example using ravel().\n",
      "  y = column_or_1d(y, warn=True)\n"
     ]
    }
   ],
   "source": [
    "gbc_tuned.fit(x_train, y_train)\n",
    "pred_y = gbc_tuned.predict(x_test)"
   ]
  },
  {
   "cell_type": "code",
   "execution_count": 37,
   "id": "a3b2e920",
   "metadata": {},
   "outputs": [
    {
     "name": "stdout",
     "output_type": "stream",
     "text": [
      "Accuracy: 0.93\n",
      "F1 Score: 0.01\n",
      "              precision    recall  f1-score   support\n",
      "\n",
      "           0       0.93      1.00      0.96      2154\n",
      "           1       0.25      0.01      0.01       155\n",
      "\n",
      "    accuracy                           0.93      2309\n",
      "   macro avg       0.59      0.50      0.49      2309\n",
      "weighted avg       0.89      0.93      0.90      2309\n",
      "\n"
     ]
    }
   ],
   "source": [
    "f1 = f1_score(y_test, pred_y)\n",
    "accuracy = accuracy_score(y_test, pred_y)\n",
    "\n",
    "print(f'Accuracy: {accuracy:.2f}')\n",
    "print(f'F1 Score: {f1:.2f}')\n",
    "print(classification_report(y_test, pred_y))"
   ]
  },
  {
   "cell_type": "markdown",
   "id": "882d590b",
   "metadata": {},
   "source": [
    "# SMOTE"
   ]
  },
  {
   "cell_type": "code",
   "execution_count": 38,
   "id": "f70dbac4",
   "metadata": {},
   "outputs": [],
   "source": [
    "#Performing SMOTE\n",
    "from imblearn.over_sampling import SMOTE\n",
    "\n",
    "smote = SMOTE(random_state=42)\n",
    "x_train_resampled, y_train_resampled = smote.fit_resample(x_train, y_train)"
   ]
  },
  {
   "cell_type": "code",
   "execution_count": 39,
   "id": "d8cd46c1",
   "metadata": {},
   "outputs": [
    {
     "name": "stderr",
     "output_type": "stream",
     "text": [
      "C:\\Users\\Isini\\anaconda3\\lib\\site-packages\\sklearn\\ensemble\\_gb.py:437: DataConversionWarning: A column-vector y was passed when a 1d array was expected. Please change the shape of y to (n_samples, ), for example using ravel().\n",
      "  y = column_or_1d(y, warn=True)\n"
     ]
    },
    {
     "data": {
      "text/html": [
       "<style>#sk-container-id-1 {color: black;background-color: white;}#sk-container-id-1 pre{padding: 0;}#sk-container-id-1 div.sk-toggleable {background-color: white;}#sk-container-id-1 label.sk-toggleable__label {cursor: pointer;display: block;width: 100%;margin-bottom: 0;padding: 0.3em;box-sizing: border-box;text-align: center;}#sk-container-id-1 label.sk-toggleable__label-arrow:before {content: \"▸\";float: left;margin-right: 0.25em;color: #696969;}#sk-container-id-1 label.sk-toggleable__label-arrow:hover:before {color: black;}#sk-container-id-1 div.sk-estimator:hover label.sk-toggleable__label-arrow:before {color: black;}#sk-container-id-1 div.sk-toggleable__content {max-height: 0;max-width: 0;overflow: hidden;text-align: left;background-color: #f0f8ff;}#sk-container-id-1 div.sk-toggleable__content pre {margin: 0.2em;color: black;border-radius: 0.25em;background-color: #f0f8ff;}#sk-container-id-1 input.sk-toggleable__control:checked~div.sk-toggleable__content {max-height: 200px;max-width: 100%;overflow: auto;}#sk-container-id-1 input.sk-toggleable__control:checked~label.sk-toggleable__label-arrow:before {content: \"▾\";}#sk-container-id-1 div.sk-estimator input.sk-toggleable__control:checked~label.sk-toggleable__label {background-color: #d4ebff;}#sk-container-id-1 div.sk-label input.sk-toggleable__control:checked~label.sk-toggleable__label {background-color: #d4ebff;}#sk-container-id-1 input.sk-hidden--visually {border: 0;clip: rect(1px 1px 1px 1px);clip: rect(1px, 1px, 1px, 1px);height: 1px;margin: -1px;overflow: hidden;padding: 0;position: absolute;width: 1px;}#sk-container-id-1 div.sk-estimator {font-family: monospace;background-color: #f0f8ff;border: 1px dotted black;border-radius: 0.25em;box-sizing: border-box;margin-bottom: 0.5em;}#sk-container-id-1 div.sk-estimator:hover {background-color: #d4ebff;}#sk-container-id-1 div.sk-parallel-item::after {content: \"\";width: 100%;border-bottom: 1px solid gray;flex-grow: 1;}#sk-container-id-1 div.sk-label:hover label.sk-toggleable__label {background-color: #d4ebff;}#sk-container-id-1 div.sk-serial::before {content: \"\";position: absolute;border-left: 1px solid gray;box-sizing: border-box;top: 0;bottom: 0;left: 50%;z-index: 0;}#sk-container-id-1 div.sk-serial {display: flex;flex-direction: column;align-items: center;background-color: white;padding-right: 0.2em;padding-left: 0.2em;position: relative;}#sk-container-id-1 div.sk-item {position: relative;z-index: 1;}#sk-container-id-1 div.sk-parallel {display: flex;align-items: stretch;justify-content: center;background-color: white;position: relative;}#sk-container-id-1 div.sk-item::before, #sk-container-id-1 div.sk-parallel-item::before {content: \"\";position: absolute;border-left: 1px solid gray;box-sizing: border-box;top: 0;bottom: 0;left: 50%;z-index: -1;}#sk-container-id-1 div.sk-parallel-item {display: flex;flex-direction: column;z-index: 1;position: relative;background-color: white;}#sk-container-id-1 div.sk-parallel-item:first-child::after {align-self: flex-end;width: 50%;}#sk-container-id-1 div.sk-parallel-item:last-child::after {align-self: flex-start;width: 50%;}#sk-container-id-1 div.sk-parallel-item:only-child::after {width: 0;}#sk-container-id-1 div.sk-dashed-wrapped {border: 1px dashed gray;margin: 0 0.4em 0.5em 0.4em;box-sizing: border-box;padding-bottom: 0.4em;background-color: white;}#sk-container-id-1 div.sk-label label {font-family: monospace;font-weight: bold;display: inline-block;line-height: 1.2em;}#sk-container-id-1 div.sk-label-container {text-align: center;}#sk-container-id-1 div.sk-container {/* jupyter's `normalize.less` sets `[hidden] { display: none; }` but bootstrap.min.css set `[hidden] { display: none !important; }` so we also need the `!important` here to be able to override the default hidden behavior on the sphinx rendered scikit-learn.org. See: https://github.com/scikit-learn/scikit-learn/issues/21755 */display: inline-block !important;position: relative;}#sk-container-id-1 div.sk-text-repr-fallback {display: none;}</style><div id=\"sk-container-id-1\" class=\"sk-top-container\"><div class=\"sk-text-repr-fallback\"><pre>GradientBoostingClassifier(learning_rate=0.05, max_features=5, n_estimators=300,\n",
       "                           random_state=100)</pre><b>In a Jupyter environment, please rerun this cell to show the HTML representation or trust the notebook. <br />On GitHub, the HTML representation is unable to render, please try loading this page with nbviewer.org.</b></div><div class=\"sk-container\" hidden><div class=\"sk-item\"><div class=\"sk-estimator sk-toggleable\"><input class=\"sk-toggleable__control sk-hidden--visually\" id=\"sk-estimator-id-1\" type=\"checkbox\" checked><label for=\"sk-estimator-id-1\" class=\"sk-toggleable__label sk-toggleable__label-arrow\">GradientBoostingClassifier</label><div class=\"sk-toggleable__content\"><pre>GradientBoostingClassifier(learning_rate=0.05, max_features=5, n_estimators=300,\n",
       "                           random_state=100)</pre></div></div></div></div></div>"
      ],
      "text/plain": [
       "GradientBoostingClassifier(learning_rate=0.05, max_features=5, n_estimators=300,\n",
       "                           random_state=100)"
      ]
     },
     "execution_count": 39,
     "metadata": {},
     "output_type": "execute_result"
    }
   ],
   "source": [
    "# Create and train a Random Forest classifier on the resampled data\n",
    "gb_classifier_resampled = GradientBoostingClassifier(n_estimators=300,\n",
    "                                 learning_rate=0.05,\n",
    "                                 random_state=100,\n",
    "                                 max_features=5 )\n",
    "gb_classifier_resampled.fit(x_train_resampled, y_train_resampled)\n"
   ]
  },
  {
   "cell_type": "code",
   "execution_count": 40,
   "id": "cf48180b",
   "metadata": {},
   "outputs": [
    {
     "name": "stdout",
     "output_type": "stream",
     "text": [
      "Accuracy: 0.85\n",
      "F1 Score: 0.33\n"
     ]
    }
   ],
   "source": [
    "# Make predictions on the original test data\n",
    "y_pred = gb_classifier_resampled.predict(x_test)\n",
    "\n",
    "# Calculate accuracy and F1 score\n",
    "accuracy = accuracy_score(y_test, y_pred)\n",
    "f1 = f1_score(y_test, y_pred)\n",
    "\n",
    "print(f'Accuracy: {accuracy:.2f}')\n",
    "print(f'F1 Score: {f1:.2f}')"
   ]
  },
  {
   "cell_type": "code",
   "execution_count": 41,
   "id": "635cb6a0",
   "metadata": {},
   "outputs": [
    {
     "name": "stdout",
     "output_type": "stream",
     "text": [
      "Accuracy: 0.85\n",
      "Classification Report:\n",
      "               precision    recall  f1-score   support\n",
      "\n",
      "           0       0.96      0.87      0.91      2154\n",
      "           1       0.23      0.55      0.33       155\n",
      "\n",
      "    accuracy                           0.85      2309\n",
      "   macro avg       0.60      0.71      0.62      2309\n",
      "weighted avg       0.92      0.85      0.88      2309\n",
      "\n"
     ]
    }
   ],
   "source": [
    "accuracy = accuracy_score(y_test, y_pred)\n",
    "print(f'Accuracy: {accuracy:.2f}')\n",
    "classification_rep = classification_report(y_test, y_pred)\n",
    "print('Classification Report:\\n', classification_rep)"
   ]
  },
  {
   "cell_type": "code",
   "execution_count": null,
   "id": "2e2f7ba9",
   "metadata": {},
   "outputs": [],
   "source": []
  },
  {
   "cell_type": "code",
   "execution_count": 42,
   "id": "0c3e3191",
   "metadata": {},
   "outputs": [],
   "source": [
    "cm = confusion_matrix(y_test, y_pred)"
   ]
  },
  {
   "cell_type": "code",
   "execution_count": 48,
   "id": "760db8c6",
   "metadata": {},
   "outputs": [
    {
     "data": {
      "image/png": "[encoded data removed]",
      "text/plain": [
       "<Figure size 800x600 with 2 Axes>"
      ]
     },
     "metadata": {},
     "output_type": "display_data"
    }
   ],
   "source": [
    "plt.figure(figsize=(8, 6))\n",
    "sns.heatmap(cm, annot=True, cmap=\"Blues\", fmt=\"d\")\n",
    "plt.title('Confusion Matrix')\n",
    "plt.xlabel('Predicted')\n",
    "plt.ylabel('Actual')\n",
    "plt.show()"
   ]
  },
  {
   "cell_type": "code",
   "execution_count": 49,
   "id": "4053e166",
   "metadata": {},
   "outputs": [
    {
     "data": {
      "text/plain": [
       "0.678493126067032"
      ]
     },
     "execution_count": 49,
     "metadata": {},
     "output_type": "execute_result"
    }
   ],
   "source": [
    "false_positive_rate, true_positive_rate, thresholds = roc_curve(y_test, y_pred)\n",
    "roc_auc = auc(false_positive_rate, true_positive_rate)\n",
    "roc_auc"
   ]
  },
  {
   "cell_type": "markdown",
   "id": "c83cb34a",
   "metadata": {},
   "source": [
    "learning_rate\n",
    "N_estimators\n",
    "max_depth\n",
    "min_samples_split\n",
    "min_samples_leaf\n",
    "max_features"
   ]
  },
  {
   "cell_type": "markdown",
   "id": "c181ebde",
   "metadata": {},
   "source": [
    "## learning_rate"
   ]
  },
  {
   "cell_type": "markdown",
   "id": "38120954",
   "metadata": {},
   "source": [
    "learning_rates = [1, 0.5, 0.25, 0.1, 0.05, 0.01]\n",
    "train_results = []\n",
    "test_results = []\n",
    "for eta in learning_rates:\n",
    "   model = GradientBoostingClassifier(learning_rate=eta)\n",
    "   model.fit(x_train, y_train)\n",
    "   train_pred = model.predict(x_train)\n",
    "   false_positive_rate, true_positive_rate, thresholds = roc_curve(y_train, train_pred)\n",
    "   roc_auc = auc(false_positive_rate, true_positive_rate)\n",
    "   train_results.append(roc_auc)\n",
    "   y_pred = model.predict(x_test)\n",
    "   false_positive_rate, true_positive_rate, thresholds = roc_curve(y_test, y_pred)\n",
    "   roc_auc = auc(false_positive_rate, true_positive_rate)\n",
    "   test_results.append(roc_auc)\n",
    "from matplotlib.legend_handler import HandlerLine2D\n",
    "line1, = plt.plot(learning_rates, train_results, \"b\", label=\"Train AUC\")\n",
    "line2, = plt.plot(learning_rates, test_results, \"r\", label=\"Test AUC\")\n",
    "plt.legend(handler_map={line1: HandlerLine2D(numpoints=2)})\n",
    "plt.ylabel(\"AUC score\")\n",
    "plt.xlabel(\"learning rate\")\n",
    "plt.show()"
   ]
  },
  {
   "cell_type": "markdown",
   "id": "19213799",
   "metadata": {},
   "source": [
    "## n_estimators"
   ]
  },
  {
   "cell_type": "markdown",
   "id": "f6e53f36",
   "metadata": {},
   "source": [
    "n_estimators = [1, 2, 4, 8, 16, 32, 64, 100, 200]\n",
    "train_results = []\n",
    "test_results = []\n",
    "for estimator in n_estimators:\n",
    "   model = GradientBoostingClassifier(n_estimators=estimator)\n",
    "   model.fit(x_train, y_train)\n",
    "   train_pred = model.predict(x_train)\n",
    "   false_positive_rate, true_positive_rate, thresholds = roc_curve(y_train, train_pred)\n",
    "   roc_auc = auc(false_positive_rate, true_positive_rate)\n",
    "   train_results.append(roc_auc)\n",
    "   y_pred = model.predict(x_test)\n",
    "   false_positive_rate, true_positive_rate, thresholds = roc_curve(y_test, y_pred)\n",
    "   roc_auc = auc(false_positive_rate, true_positive_rate)\n",
    "   test_results.append(roc_auc)\n",
    "from matplotlib.legend_handler import HandlerLine2D\n",
    "line1, = plt.plot(n_estimators, train_results, \"b\", label=\"Train AUC\")\n",
    "line2, = plt.plot(n_estimators, test_results, \"r\", label=\"Test AUC\")\n",
    "plt.legend(handler_map={line1: HandlerLine2D(numpoints=2)})\n",
    "plt.ylabel(\"AUC score\")\n",
    "plt.xlabel(\"n_estimators\")\n",
    "plt.show()"
   ]
  },
  {
   "cell_type": "markdown",
   "id": "39dc505b",
   "metadata": {},
   "source": [
    "## max_depth"
   ]
  },
  {
   "cell_type": "markdown",
   "id": "edd06dad",
   "metadata": {},
   "source": [
    "max_depths = np.linspace(1, 32, 32, endpoint=True)\n",
    "train_results = []\n",
    "test_results = []\n",
    "for max_depth in max_depths:\n",
    "   model = GradientBoostingClassifier(max_depth=max_depth)\n",
    "   model.fit(x_train, y_train)\n",
    "   train_pred = model.predict(x_train)\n",
    "   false_positive_rate, true_positive_rate, thresholds = roc_curve(y_train, train_pred)\n",
    "   roc_auc = auc(false_positive_rate, true_positive_rate)\n",
    "   train_results.append(roc_auc)\n",
    "   y_pred = model.predict(x_test)\n",
    "   false_positive_rate, true_positive_rate, thresholds = roc_curve(y_test, y_pred)\n",
    "   roc_auc = auc(false_positive_rate, true_positive_rate)\n",
    "   test_results.append(roc_auc)\n",
    "from matplotlib.legend_handler import HandlerLine2D\n",
    "line1, = plt.plot(max_depths, train_results, \"b\", label=\"Train AUC\")\n",
    "line2, = plt.plot(max_depths, test_results, \"r\", label=\"Test AUC\")\n",
    "plt.legend(handler_map={line1: HandlerLine2D(numpoints=2)})\n",
    "plt.ylabel(\"AUC score\")\n",
    "plt.xlabel(\"Tree depth\")\n",
    "plt.show()"
   ]
  },
  {
   "cell_type": "markdown",
   "id": "b65d8ca6",
   "metadata": {},
   "source": [
    "## min_samples_split"
   ]
  },
  {
   "cell_type": "markdown",
   "id": "b5b9c7ec",
   "metadata": {},
   "source": [
    "min_samples_splits = np.linspace(0.1, 1.0, 10, endpoint=True)\n",
    "train_results = []\n",
    "test_results = []\n",
    "for min_samples_split in min_samples_splits:\n",
    "   model = GradientBoostingClassifier(min_samples_split=min_samples_split)\n",
    "   model.fit(x_train, y_train)\n",
    "   train_pred = model.predict(x_train)\n",
    "   false_positive_rate, true_positive_rate, thresholds = roc_curve(y_train, train_pred)\n",
    "   roc_auc = auc(false_positive_rate, true_positive_rate)\n",
    "   train_results.append(roc_auc)\n",
    "   y_pred = model.predict(x_test)\n",
    "   false_positive_rate, true_positive_rate, thresholds = roc_curve(y_test, y_pred)\n",
    "   roc_auc = auc(false_positive_rate, true_positive_rate)\n",
    "   test_results.append(roc_auc)\n",
    "from matplotlib.legend_handler import HandlerLine2D\n",
    "line1, = plt.plot(min_samples_splits, train_results, \"b\", label=\"Train AUC\")\n",
    "line2, = plt.plot(min_samples_splits, test_results, \"r\", label=\"Test AUC\")\n",
    "plt.legend(handler_map={line1: HandlerLine2D(numpoints=2)})\n",
    "plt.ylabel(\"AUC score\")\n",
    "plt.xlabel(\"min samples split\")\n",
    "plt.show()"
   ]
  },
  {
   "cell_type": "markdown",
   "id": "fe588d57",
   "metadata": {},
   "source": [
    "## min_samples_leaf"
   ]
  },
  {
   "cell_type": "markdown",
   "id": "c4c4ada9",
   "metadata": {},
   "source": [
    "min_samples_leafs = np.linspace(0.1, 0.5, 5, endpoint=True)\n",
    "train_results = []\n",
    "test_results = []\n",
    "for min_samples_leaf in min_samples_leafs:\n",
    "   model = GradientBoostingClassifier(min_samples_leaf=min_samples_leaf)\n",
    "   model.fit(x_train, y_train)\n",
    "   train_pred = model.predict(x_train)\n",
    "   false_positive_rate, true_positive_rate, thresholds = roc_curve(y_train, train_pred)\n",
    "   roc_auc = auc(false_positive_rate, true_positive_rate)\n",
    "   train_results.append(roc_auc)\n",
    "   y_pred = model.predict(x_test)\n",
    "   false_positive_rate, true_positive_rate, thresholds = roc_curve(y_test, y_pred)\n",
    "   roc_auc = auc(false_positive_rate, true_positive_rate)\n",
    "   test_results.append(roc_auc)\n",
    "from matplotlib.legend_handler import HandlerLine2D\n",
    "line1, = plt.plot(min_samples_leafs, train_results, \"b\", label=\"Train AUC\")\n",
    "line2, = plt.plot(min_samples_leafs, test_results, \"r\", label=\"Test AUC\")\n",
    "plt.legend(handler_map={line1: HandlerLine2D(numpoints=2)})\n",
    "plt.ylabel(\"AUC score\")\n",
    "plt.xlabel(\"min samples leaf\")\n",
    "plt.show()"
   ]
  },
  {
   "cell_type": "markdown",
   "id": "5a58933d",
   "metadata": {},
   "source": [
    "## max_features"
   ]
  },
  {
   "cell_type": "markdown",
   "id": "ca902614",
   "metadata": {},
   "source": [
    "max_features = list(range(1,x_train.shape[1]))\n",
    "train_results = []\n",
    "test_results = []\n",
    "for max_feature in max_features:\n",
    "   model = GradientBoostingClassifier(max_features=max_feature)\n",
    "   model.fit(x_train, y_train)\n",
    "   train_pred = model.predict(x_train)\n",
    "   false_positive_rate, true_positive_rate, thresholds = roc_curve(y_train, train_pred)\n",
    "   roc_auc = auc(false_positive_rate, true_positive_rate)\n",
    "   train_results.append(roc_auc)\n",
    "   y_pred = model.predict(x_test)\n",
    "   false_positive_rate, true_positive_rate, thresholds = roc_curve(y_test, y_pred)\n",
    "   roc_auc = auc(false_positive_rate, true_positive_rate)\n",
    "   test_results.append(roc_auc)\n",
    "from matplotlib.legend_handler import HandlerLine2D\n",
    "line1, = plt.plot(max_features, train_results, \"b\", label=\"Train AUC\")\n",
    "line2, = plt.plot(max_features, test_results, \"r\", label=\"Test AUC\")\n",
    "plt.legend(handler_map={line1: HandlerLine2D(numpoints=2)})\n",
    "plt.ylabel(\"AUC score\")\n",
    "plt.xlabel(\"max features\")\n",
    "plt.show()"
   ]
  },
  {
   "cell_type": "code",
   "execution_count": 50,
   "id": "b39a6d88",
   "metadata": {},
   "outputs": [
    {
     "name": "stderr",
     "output_type": "stream",
     "text": [
      "C:\\Users\\Isini\\anaconda3\\lib\\site-packages\\sklearn\\ensemble\\_gb.py:437: DataConversionWarning: A column-vector y was passed when a 1d array was expected. Please change the shape of y to (n_samples, ), for example using ravel().\n",
      "  y = column_or_1d(y, warn=True)\n"
     ]
    },
    {
     "data": {
      "text/html": [
       "<style>#sk-container-id-3 {color: black;background-color: white;}#sk-container-id-3 pre{padding: 0;}#sk-container-id-3 div.sk-toggleable {background-color: white;}#sk-container-id-3 label.sk-toggleable__label {cursor: pointer;display: block;width: 100%;margin-bottom: 0;padding: 0.3em;box-sizing: border-box;text-align: center;}#sk-container-id-3 label.sk-toggleable__label-arrow:before {content: \"▸\";float: left;margin-right: 0.25em;color: #696969;}#sk-container-id-3 label.sk-toggleable__label-arrow:hover:before {color: black;}#sk-container-id-3 div.sk-estimator:hover label.sk-toggleable__label-arrow:before {color: black;}#sk-container-id-3 div.sk-toggleable__content {max-height: 0;max-width: 0;overflow: hidden;text-align: left;background-color: #f0f8ff;}#sk-container-id-3 div.sk-toggleable__content pre {margin: 0.2em;color: black;border-radius: 0.25em;background-color: #f0f8ff;}#sk-container-id-3 input.sk-toggleable__control:checked~div.sk-toggleable__content {max-height: 200px;max-width: 100%;overflow: auto;}#sk-container-id-3 input.sk-toggleable__control:checked~label.sk-toggleable__label-arrow:before {content: \"▾\";}#sk-container-id-3 div.sk-estimator input.sk-toggleable__control:checked~label.sk-toggleable__label {background-color: #d4ebff;}#sk-container-id-3 div.sk-label input.sk-toggleable__control:checked~label.sk-toggleable__label {background-color: #d4ebff;}#sk-container-id-3 input.sk-hidden--visually {border: 0;clip: rect(1px 1px 1px 1px);clip: rect(1px, 1px, 1px, 1px);height: 1px;margin: -1px;overflow: hidden;padding: 0;position: absolute;width: 1px;}#sk-container-id-3 div.sk-estimator {font-family: monospace;background-color: #f0f8ff;border: 1px dotted black;border-radius: 0.25em;box-sizing: border-box;margin-bottom: 0.5em;}#sk-container-id-3 div.sk-estimator:hover {background-color: #d4ebff;}#sk-container-id-3 div.sk-parallel-item::after {content: \"\";width: 100%;border-bottom: 1px solid gray;flex-grow: 1;}#sk-container-id-3 div.sk-label:hover label.sk-toggleable__label {background-color: #d4ebff;}#sk-container-id-3 div.sk-serial::before {content: \"\";position: absolute;border-left: 1px solid gray;box-sizing: border-box;top: 0;bottom: 0;left: 50%;z-index: 0;}#sk-container-id-3 div.sk-serial {display: flex;flex-direction: column;align-items: center;background-color: white;padding-right: 0.2em;padding-left: 0.2em;position: relative;}#sk-container-id-3 div.sk-item {position: relative;z-index: 1;}#sk-container-id-3 div.sk-parallel {display: flex;align-items: stretch;justify-content: center;background-color: white;position: relative;}#sk-container-id-3 div.sk-item::before, #sk-container-id-3 div.sk-parallel-item::before {content: \"\";position: absolute;border-left: 1px solid gray;box-sizing: border-box;top: 0;bottom: 0;left: 50%;z-index: -1;}#sk-container-id-3 div.sk-parallel-item {display: flex;flex-direction: column;z-index: 1;position: relative;background-color: white;}#sk-container-id-3 div.sk-parallel-item:first-child::after {align-self: flex-end;width: 50%;}#sk-container-id-3 div.sk-parallel-item:last-child::after {align-self: flex-start;width: 50%;}#sk-container-id-3 div.sk-parallel-item:only-child::after {width: 0;}#sk-container-id-3 div.sk-dashed-wrapped {border: 1px dashed gray;margin: 0 0.4em 0.5em 0.4em;box-sizing: border-box;padding-bottom: 0.4em;background-color: white;}#sk-container-id-3 div.sk-label label {font-family: monospace;font-weight: bold;display: inline-block;line-height: 1.2em;}#sk-container-id-3 div.sk-label-container {text-align: center;}#sk-container-id-3 div.sk-container {/* jupyter's `normalize.less` sets `[hidden] { display: none; }` but bootstrap.min.css set `[hidden] { display: none !important; }` so we also need the `!important` here to be able to override the default hidden behavior on the sphinx rendered scikit-learn.org. See: https://github.com/scikit-learn/scikit-learn/issues/21755 */display: inline-block !important;position: relative;}#sk-container-id-3 div.sk-text-repr-fallback {display: none;}</style><div id=\"sk-container-id-3\" class=\"sk-top-container\"><div class=\"sk-text-repr-fallback\"><pre>GradientBoostingClassifier(learning_rate=0.5, max_depth=5, max_features=6,\n",
       "                           min_samples_leaf=0.1, min_samples_split=0.2,\n",
       "                           random_state=100)</pre><b>In a Jupyter environment, please rerun this cell to show the HTML representation or trust the notebook. <br />On GitHub, the HTML representation is unable to render, please try loading this page with nbviewer.org.</b></div><div class=\"sk-container\" hidden><div class=\"sk-item\"><div class=\"sk-estimator sk-toggleable\"><input class=\"sk-toggleable__control sk-hidden--visually\" id=\"sk-estimator-id-3\" type=\"checkbox\" checked><label for=\"sk-estimator-id-3\" class=\"sk-toggleable__label sk-toggleable__label-arrow\">GradientBoostingClassifier</label><div class=\"sk-toggleable__content\"><pre>GradientBoostingClassifier(learning_rate=0.5, max_depth=5, max_features=6,\n",
       "                           min_samples_leaf=0.1, min_samples_split=0.2,\n",
       "                           random_state=100)</pre></div></div></div></div></div>"
      ],
      "text/plain": [
       "GradientBoostingClassifier(learning_rate=0.5, max_depth=5, max_features=6,\n",
       "                           min_samples_leaf=0.1, min_samples_split=0.2,\n",
       "                           random_state=100)"
      ]
     },
     "execution_count": 50,
     "metadata": {},
     "output_type": "execute_result"
    }
   ],
   "source": [
    "# Create and train a Random Forest classifier on the resampled data\n",
    "gb_classifier_resampled = GradientBoostingClassifier(n_estimators=100,\n",
    "                                 learning_rate=0.5,\n",
    "                                 random_state=100,\n",
    "                                 max_features=6,\n",
    "                                min_samples_split=0.2,\n",
    "                                  min_samples_leaf=0.1,\n",
    "                                max_depth=5)\n",
    "gb_classifier_resampled.fit(x_train_resampled, y_train_resampled)"
   ]
  },
  {
   "cell_type": "code",
   "execution_count": 51,
   "id": "4969b7a9",
   "metadata": {},
   "outputs": [
    {
     "name": "stdout",
     "output_type": "stream",
     "text": [
      "Accuracy: 0.83\n",
      "F1 Score: 0.28\n"
     ]
    }
   ],
   "source": [
    "# Make predictions on the original test data\n",
    "y_pred = gb_classifier_resampled.predict(x_test)\n",
    "\n",
    "# Calculate accuracy and F1 score\n",
    "accuracy = accuracy_score(y_test, y_pred)\n",
    "f1 = f1_score(y_test, y_pred)\n",
    "\n",
    "print(f'Accuracy: {accuracy:.2f}')\n",
    "print(f'F1 Score: {f1:.2f}')"
   ]
  },
  {
   "cell_type": "code",
   "execution_count": 52,
   "id": "000d16f7",
   "metadata": {},
   "outputs": [
    {
     "name": "stdout",
     "output_type": "stream",
     "text": [
      "Accuracy: 0.83\n",
      "Classification Report:\n",
      "               precision    recall  f1-score   support\n",
      "\n",
      "           0       0.96      0.85      0.90      2154\n",
      "           1       0.20      0.50      0.28       155\n",
      "\n",
      "    accuracy                           0.83      2309\n",
      "   macro avg       0.58      0.68      0.59      2309\n",
      "weighted avg       0.91      0.83      0.86      2309\n",
      "\n"
     ]
    }
   ],
   "source": [
    "accuracy = accuracy_score(y_test, y_pred)\n",
    "print(f'Accuracy: {accuracy:.2f}')\n",
    "classification_rep = classification_report(y_test, y_pred)\n",
    "print('Classification Report:\\n', classification_rep)"
   ]
  },
  {
   "cell_type": "code",
   "execution_count": 53,
   "id": "346c78c1",
   "metadata": {},
   "outputs": [
    {
     "data": {
      "image/png": "[encoded data removed]",
      "text/plain": [
       "<Figure size 800x600 with 2 Axes>"
      ]
     },
     "metadata": {},
     "output_type": "display_data"
    }
   ],
   "source": [
    "cm = confusion_matrix(y_test, y_pred)\n",
    "plt.figure(figsize=(8, 6))\n",
    "sns.heatmap(cm, annot=True, cmap=\"Blues\", fmt=\"d\")\n",
    "plt.title('Confusion Matrix')\n",
    "plt.xlabel('Predicted')\n",
    "plt.ylabel('Actual')\n",
    "plt.show()"
   ]
  },
  {
   "cell_type": "markdown",
   "id": "67fa3b8c",
   "metadata": {},
   "source": [
    "from sklearn.model_selection import GridSearchCV\n",
    "parameters =[{\"learning_rate\":[1, 0.5, 0.25, 0.1, 0.05, 0.01],\n",
    "\"max_depth\":[1,2,3,4,5,6,7,8,9,10],\n",
    "\"min_samples_split\":[0.1,0.2,0.3,0.4,0.5,0.6,0.7,0.8,0.9,1],\n",
    "\"min_samples_leaf\":[0.1,0.2,0.3,0.4],\n",
    "\"max_features\":[1,2,3,4,5,6,7]}]\n",
    "grid_search= GridSearchCV(estimator=gb_classifier_resampled,param_grid=parameters,scoring='accuracy',cv=4,n_jobs=-1,verbose=10)\n",
    "grid_search = grid_search.fit(x_train_resampled, y_train_resampled)"
   ]
  },
  {
   "cell_type": "markdown",
   "id": "fb0b70d5",
   "metadata": {},
   "source": [
    "accuracy = grid_search.best_score_\n",
    "accuracy"
   ]
  },
  {
   "cell_type": "markdown",
   "id": "0449952d",
   "metadata": {},
   "source": [
    "grid_search.best_params_"
   ]
  },
  {
   "cell_type": "markdown",
   "id": "8367ab0a",
   "metadata": {},
   "source": [
    "# Create and train a Random Forest classifier on the resampled data\n",
    "gb_classifier_resampled = GradientBoostingClassifier(n_estimators=100,\n",
    "                                 learning_rate=1,\n",
    "                                 random_state=100,\n",
    "                                 max_features=7,\n",
    "                                min_samples_split=0.1,\n",
    "                                  min_samples_leaf=0.1,\n",
    "                                max_depth=6)\n",
    "gb_classifier_resampled.fit(x_train_resampled, y_train_resampled)"
   ]
  },
  {
   "cell_type": "markdown",
   "id": "ae82eb5a",
   "metadata": {},
   "source": [
    "# Make predictions on the original test data\n",
    "y_pred = gb_classifier_resampled.predict(x_test)\n",
    "\n",
    "# Calculate accuracy and F1 score\n",
    "accuracy = accuracy_score(y_test, y_pred)\n",
    "f1 = f1_score(y_test, y_pred)\n",
    "\n",
    "print(f'Accuracy: {accuracy:.2f}')\n",
    "print(f'F1 Score: {f1:.2f}')"
   ]
  },
  {
   "cell_type": "markdown",
   "id": "24ccbaaf",
   "metadata": {},
   "source": [
    "accuracy = accuracy_score(y_test, y_pred)\n",
    "print(f'F1 Score: {f1:.2f}')\n",
    "print(f'Accuracy: {accuracy:.2f}')\n",
    "classification_rep = classification_report(y_test, y_pred)\n",
    "print('Classification Report:\\n', classification_rep)"
   ]
  },
  {
   "cell_type": "markdown",
   "id": "d11110c0",
   "metadata": {},
   "source": [
    "cm = confusion_matrix(y_test, y_pred)\n",
    "plt.figure(figsize=(8, 6))\n",
    "sns.heatmap(cm, annot=True, cmap=\"Blues\", fmt=\"d\")\n",
    "plt.title('Confusion Matrix')\n",
    "plt.xlabel('Predicted')\n",
    "plt.ylabel('Actual')\n",
    "plt.show()"
   ]
  },
  {
   "cell_type": "code",
   "execution_count": 54,
   "id": "54d515a8",
   "metadata": {},
   "outputs": [
    {
     "name": "stderr",
     "output_type": "stream",
     "text": [
      "C:\\Users\\Isini\\anaconda3\\lib\\site-packages\\sklearn\\ensemble\\_gb.py:437: DataConversionWarning: A column-vector y was passed when a 1d array was expected. Please change the shape of y to (n_samples, ), for example using ravel().\n",
      "  y = column_or_1d(y, warn=True)\n"
     ]
    },
    {
     "data": {
      "text/html": [
       "<style>#sk-container-id-4 {color: black;background-color: white;}#sk-container-id-4 pre{padding: 0;}#sk-container-id-4 div.sk-toggleable {background-color: white;}#sk-container-id-4 label.sk-toggleable__label {cursor: pointer;display: block;width: 100%;margin-bottom: 0;padding: 0.3em;box-sizing: border-box;text-align: center;}#sk-container-id-4 label.sk-toggleable__label-arrow:before {content: \"▸\";float: left;margin-right: 0.25em;color: #696969;}#sk-container-id-4 label.sk-toggleable__label-arrow:hover:before {color: black;}#sk-container-id-4 div.sk-estimator:hover label.sk-toggleable__label-arrow:before {color: black;}#sk-container-id-4 div.sk-toggleable__content {max-height: 0;max-width: 0;overflow: hidden;text-align: left;background-color: #f0f8ff;}#sk-container-id-4 div.sk-toggleable__content pre {margin: 0.2em;color: black;border-radius: 0.25em;background-color: #f0f8ff;}#sk-container-id-4 input.sk-toggleable__control:checked~div.sk-toggleable__content {max-height: 200px;max-width: 100%;overflow: auto;}#sk-container-id-4 input.sk-toggleable__control:checked~label.sk-toggleable__label-arrow:before {content: \"▾\";}#sk-container-id-4 div.sk-estimator input.sk-toggleable__control:checked~label.sk-toggleable__label {background-color: #d4ebff;}#sk-container-id-4 div.sk-label input.sk-toggleable__control:checked~label.sk-toggleable__label {background-color: #d4ebff;}#sk-container-id-4 input.sk-hidden--visually {border: 0;clip: rect(1px 1px 1px 1px);clip: rect(1px, 1px, 1px, 1px);height: 1px;margin: -1px;overflow: hidden;padding: 0;position: absolute;width: 1px;}#sk-container-id-4 div.sk-estimator {font-family: monospace;background-color: #f0f8ff;border: 1px dotted black;border-radius: 0.25em;box-sizing: border-box;margin-bottom: 0.5em;}#sk-container-id-4 div.sk-estimator:hover {background-color: #d4ebff;}#sk-container-id-4 div.sk-parallel-item::after {content: \"\";width: 100%;border-bottom: 1px solid gray;flex-grow: 1;}#sk-container-id-4 div.sk-label:hover label.sk-toggleable__label {background-color: #d4ebff;}#sk-container-id-4 div.sk-serial::before {content: \"\";position: absolute;border-left: 1px solid gray;box-sizing: border-box;top: 0;bottom: 0;left: 50%;z-index: 0;}#sk-container-id-4 div.sk-serial {display: flex;flex-direction: column;align-items: center;background-color: white;padding-right: 0.2em;padding-left: 0.2em;position: relative;}#sk-container-id-4 div.sk-item {position: relative;z-index: 1;}#sk-container-id-4 div.sk-parallel {display: flex;align-items: stretch;justify-content: center;background-color: white;position: relative;}#sk-container-id-4 div.sk-item::before, #sk-container-id-4 div.sk-parallel-item::before {content: \"\";position: absolute;border-left: 1px solid gray;box-sizing: border-box;top: 0;bottom: 0;left: 50%;z-index: -1;}#sk-container-id-4 div.sk-parallel-item {display: flex;flex-direction: column;z-index: 1;position: relative;background-color: white;}#sk-container-id-4 div.sk-parallel-item:first-child::after {align-self: flex-end;width: 50%;}#sk-container-id-4 div.sk-parallel-item:last-child::after {align-self: flex-start;width: 50%;}#sk-container-id-4 div.sk-parallel-item:only-child::after {width: 0;}#sk-container-id-4 div.sk-dashed-wrapped {border: 1px dashed gray;margin: 0 0.4em 0.5em 0.4em;box-sizing: border-box;padding-bottom: 0.4em;background-color: white;}#sk-container-id-4 div.sk-label label {font-family: monospace;font-weight: bold;display: inline-block;line-height: 1.2em;}#sk-container-id-4 div.sk-label-container {text-align: center;}#sk-container-id-4 div.sk-container {/* jupyter's `normalize.less` sets `[hidden] { display: none; }` but bootstrap.min.css set `[hidden] { display: none !important; }` so we also need the `!important` here to be able to override the default hidden behavior on the sphinx rendered scikit-learn.org. See: https://github.com/scikit-learn/scikit-learn/issues/21755 */display: inline-block !important;position: relative;}#sk-container-id-4 div.sk-text-repr-fallback {display: none;}</style><div id=\"sk-container-id-4\" class=\"sk-top-container\"><div class=\"sk-text-repr-fallback\"><pre>GradientBoostingClassifier(learning_rate=0.05, max_features=5, n_estimators=300,\n",
       "                           random_state=100)</pre><b>In a Jupyter environment, please rerun this cell to show the HTML representation or trust the notebook. <br />On GitHub, the HTML representation is unable to render, please try loading this page with nbviewer.org.</b></div><div class=\"sk-container\" hidden><div class=\"sk-item\"><div class=\"sk-estimator sk-toggleable\"><input class=\"sk-toggleable__control sk-hidden--visually\" id=\"sk-estimator-id-4\" type=\"checkbox\" checked><label for=\"sk-estimator-id-4\" class=\"sk-toggleable__label sk-toggleable__label-arrow\">GradientBoostingClassifier</label><div class=\"sk-toggleable__content\"><pre>GradientBoostingClassifier(learning_rate=0.05, max_features=5, n_estimators=300,\n",
       "                           random_state=100)</pre></div></div></div></div></div>"
      ],
      "text/plain": [
       "GradientBoostingClassifier(learning_rate=0.05, max_features=5, n_estimators=300,\n",
       "                           random_state=100)"
      ]
     },
     "execution_count": 54,
     "metadata": {},
     "output_type": "execute_result"
    }
   ],
   "source": [
    "# Create and train a Random Forest classifier on the resampled data\n",
    "gb_classifier_resampled = GradientBoostingClassifier(n_estimators=300,\n",
    "                                 learning_rate=0.05,\n",
    "                                 random_state=100,\n",
    "                                 max_features=5 )\n",
    "gb_classifier_resampled.fit(x_train_resampled, y_train_resampled)"
   ]
  },
  {
   "cell_type": "code",
   "execution_count": 55,
   "id": "a0638f98",
   "metadata": {},
   "outputs": [
    {
     "name": "stdout",
     "output_type": "stream",
     "text": [
      "Accuracy: 0.85\n",
      "F1 Score: 0.33\n"
     ]
    }
   ],
   "source": [
    "# Make predictions on the original test data\n",
    "y_pred = gb_classifier_resampled.predict(x_test)\n",
    "\n",
    "# Calculate accuracy and F1 score\n",
    "accuracy = accuracy_score(y_test, y_pred)\n",
    "f1 = f1_score(y_test, y_pred)\n",
    "\n",
    "print(f'Accuracy: {accuracy:.2f}')\n",
    "print(f'F1 Score: {f1:.2f}')"
   ]
  },
  {
   "cell_type": "code",
   "execution_count": 56,
   "id": "1cf2aeb2",
   "metadata": {},
   "outputs": [
    {
     "name": "stdout",
     "output_type": "stream",
     "text": [
      "Accuracy: 0.85\n",
      "F1 Score: 0.33\n",
      "Classification Report:\n",
      "               precision    recall  f1-score   support\n",
      "\n",
      "           0       0.96      0.87      0.91      2154\n",
      "           1       0.23      0.55      0.33       155\n",
      "\n",
      "    accuracy                           0.85      2309\n",
      "   macro avg       0.60      0.71      0.62      2309\n",
      "weighted avg       0.92      0.85      0.88      2309\n",
      "\n"
     ]
    }
   ],
   "source": [
    "accuracy = accuracy_score(y_test, y_pred)\n",
    "print(f'Accuracy: {accuracy:.2f}')\n",
    "print(f'F1 Score: {f1:.2f}')\n",
    "classification_rep = classification_report(y_test, y_pred)\n",
    "print('Classification Report:\\n', classification_rep)"
   ]
  },
  {
   "cell_type": "markdown",
   "id": "954812c5",
   "metadata": {},
   "source": [
    "# Pickle file"
   ]
  },
  {
   "cell_type": "code",
   "execution_count": 64,
   "id": "e4a612b3",
   "metadata": {},
   "outputs": [],
   "source": [
    "import pickle"
   ]
  },
  {
   "cell_type": "code",
   "execution_count": 65,
   "id": "8d30e922",
   "metadata": {},
   "outputs": [],
   "source": [
    "pickle.dump(gb_classifier_resampled, open('model.pkl','wb'))"
   ]
  },
  {
   "cell_type": "code",
   "execution_count": 66,
   "id": "d6d7597b",
   "metadata": {},
   "outputs": [],
   "source": [
    "model = pickle.load(open('model.pkl','rb'))"
   ]
  },
  {
   "cell_type": "code",
   "execution_count": null,
   "id": "6363b9c4",
   "metadata": {},
   "outputs": [],
   "source": []
  },
  {
   "cell_type": "markdown",
   "id": "f0fca0ce",
   "metadata": {},
   "source": [
    "# FLASK"
   ]
  },
  {
   "cell_type": "code",
   "execution_count": 67,
   "id": "7f4f41aa",
   "metadata": {},
   "outputs": [
    {
     "name": "stdout",
     "output_type": "stream",
     "text": [
      "Requirement already satisfied: flask in c:\\users\\isini\\anaconda3\\lib\\site-packages (2.2.2)\n",
      "Requirement already satisfied: click>=8.0 in c:\\users\\isini\\anaconda3\\lib\\site-packages (from flask) (8.0.4)\n",
      "Requirement already satisfied: Werkzeug>=2.2.2 in c:\\users\\isini\\anaconda3\\lib\\site-packages (from flask) (2.2.2)\n",
      "Requirement already satisfied: Jinja2>=3.0 in c:\\users\\isini\\anaconda3\\lib\\site-packages (from flask) (3.1.2)\n",
      "Requirement already satisfied: itsdangerous>=2.0 in c:\\users\\isini\\anaconda3\\lib\\site-packages (from flask) (2.0.1)\n",
      "Requirement already satisfied: colorama in c:\\users\\isini\\anaconda3\\lib\\site-packages (from click>=8.0->flask) (0.4.6)\n",
      "Requirement already satisfied: MarkupSafe>=2.0 in c:\\users\\isini\\anaconda3\\lib\\site-packages (from Jinja2>=3.0->flask) (2.1.1)\n",
      "Note: you may need to restart the kernel to use updated packages.\n"
     ]
    }
   ],
   "source": [
    "pip install flask"
   ]
  },
  {
   "cell_type": "code",
   "execution_count": 68,
   "id": "563a92d2",
   "metadata": {},
   "outputs": [
    {
     "data": {
      "text/plain": [
       "Index(['age', 'bmi', 'futime', 'avg_pre_hdl', 'avg_post_hdl', 'avg_total_hdl',\n",
       "       'avg_pre_chol', 'avg_post_chol', 'avg_total_chol', 'gender_male',\n",
       "       'gender_female'],\n",
       "      dtype='object')"
      ]
     },
     "execution_count": 68,
     "metadata": {},
     "output_type": "execute_result"
    }
   ],
   "source": [
    "x_test.columns"
   ]
  },
  {
   "cell_type": "code",
   "execution_count": null,
   "id": "180b0a7e",
   "metadata": {},
   "outputs": [],
   "source": []
  },
  {
   "cell_type": "code",
   "execution_count": 57,
   "id": "9902a79a",
   "metadata": {},
   "outputs": [
    {
     "data": {
      "image/png": "[encoded data removed]",
      "text/plain": [
       "<Figure size 800x600 with 2 Axes>"
      ]
     },
     "metadata": {},
     "output_type": "display_data"
    }
   ],
   "source": [
    "cm = confusion_matrix(y_test, y_pred)\n",
    "plt.figure(figsize=(8, 6))\n",
    "sns.heatmap(cm, annot=True, cmap=\"Blues\", fmt=\"d\")\n",
    "plt.title('Confusion Matrix')\n",
    "plt.xlabel('Predicted')\n",
    "plt.ylabel('Actual')\n",
    "plt.show()"
   ]
  },
  {
   "cell_type": "code",
   "execution_count": 58,
   "id": "5a6aeb4c",
   "metadata": {},
   "outputs": [
    {
     "name": "stdout",
     "output_type": "stream",
     "text": [
      "age: 0.4315\n",
      "gender_male: 0.2005\n",
      "gender_female: 0.1995\n",
      "futime: 0.0677\n",
      "avg_post_hdl: 0.0289\n",
      "bmi: 0.0261\n",
      "avg_post_chol: 0.0190\n",
      "avg_pre_hdl: 0.0078\n",
      "avg_total_hdl: 0.0070\n",
      "avg_total_chol: 0.0061\n",
      "avg_pre_chol: 0.0059\n"
     ]
    }
   ],
   "source": [
    "# Get feature importances\n",
    "feature_importances = gb_classifier_resampled.feature_importances_\n",
    "\n",
    "# Match feature importances to feature names (assuming you have a feature list)\n",
    "feature_names = x_train.columns  # Replace with your feature names\n",
    "importance_dict = dict(zip(feature_names, feature_importances))\n",
    "\n",
    "# Sort features by importance\n",
    "sorted_importance = sorted(importance_dict.items(), key=lambda x: x[1], reverse=True)\n",
    "\n",
    "# Print feature importance\n",
    "for feature, importance in sorted_importance:\n",
    "    print(f'{feature}: {importance:.4f}')\n"
   ]
  },
  {
   "cell_type": "code",
   "execution_count": 59,
   "id": "7ea9c50e",
   "metadata": {},
   "outputs": [
    {
     "data": {
      "image/png": "[encoded data removed]",
      "text/plain": [
       "<Figure size 1200x600 with 1 Axes>"
      ]
     },
     "metadata": {},
     "output_type": "display_data"
    }
   ],
   "source": [
    "#VIP Plot\n",
    "#VIP\n",
    "import matplotlib.pyplot as plt\n",
    "feature_importance = gb_classifier_resampled.feature_importances_\n",
    "sorted_idx = np.argsort(feature_importance)\n",
    "pos = np.arange(sorted_idx.shape[0]) + .5\n",
    "plt.figure(figsize=(12, 6))\n",
    "plt.barh(pos, feature_importance[sorted_idx], \n",
    "align='center',color=['#003F7D','#FD7702','#FF5003'])\n",
    "plt.yticks(pos, \n",
    "np.array(x_test.columns.values.tolist())[sorted_idx])\n",
    "plt.xlabel('Feature Importance')\n",
    "plt.title('Variable Importance Plot')\n",
    "plt.show()"
   ]
  },
  {
   "cell_type": "code",
   "execution_count": 60,
   "id": "cc373f18",
   "metadata": {},
   "outputs": [
    {
     "name": "stdout",
     "output_type": "stream",
     "text": [
      "Name: scikit-learn\n",
      "Version: 1.2.1\n",
      "Summary: A set of python modules for machine learning and data mining\n",
      "Home-page: http://scikit-learn.org\n",
      "Author: \n",
      "Author-email: \n",
      "License: new BSD\n",
      "Location: c:\\users\\isini\\anaconda3\\lib\\site-packages\n",
      "Requires: joblib, numpy, scipy, threadpoolctl\n",
      "Required-by: daal4py, imbalanced-learn, prince, scikit-learn-intelex\n",
      "Note: you may need to restart the kernel to use updated packages.\n"
     ]
    }
   ],
   "source": [
    "pip show scikit-learn"
   ]
  },
  {
   "cell_type": "code",
   "execution_count": 61,
   "id": "1ae12ac6",
   "metadata": {},
   "outputs": [],
   "source": [
    "from sklearn.inspection import PartialDependenceDisplay"
   ]
  },
  {
   "cell_type": "code",
   "execution_count": 62,
   "id": "eef9a60c",
   "metadata": {},
   "outputs": [
    {
     "data": {
      "image/png": "[encoded data removed]",
      "text/plain": [
       "<Figure size 1000x1000 with 2 Axes>"
      ]
     },
     "metadata": {},
     "output_type": "display_data"
    }
   ],
   "source": [
    "features = [0]\n",
    "fig, ax = plt.subplots(figsize=(10,10))\n",
    "plt.rc('font', size=20)\n",
    "one=PartialDependenceDisplay.from_estimator(gb_classifier_resampled, x_train_resampled, features,ax=ax)\n",
    "plt.savefig('0.png',dpi=300)"
   ]
  },
  {
   "cell_type": "code",
   "execution_count": 56,
   "id": "d5763a2f",
   "metadata": {},
   "outputs": [
    {
     "data": {
      "image/png": "[encoded data removed]",
      "text/plain": [
       "<Figure size 720x720 with 2 Axes>"
      ]
     },
     "metadata": {},
     "output_type": "display_data"
    }
   ],
   "source": [
    "features = [1]\n",
    "fig, ax = plt.subplots(figsize=(10,10))\n",
    "plt.rc('font', size=20)\n",
    "one=PartialDependenceDisplay.from_estimator(gb_classifier_resampled, x_train_resampled, features,ax=ax)\n",
    "plt.savefig('1.png',dpi=300)"
   ]
  },
  {
   "cell_type": "code",
   "execution_count": 57,
   "id": "c3fc1851",
   "metadata": {},
   "outputs": [
    {
     "data": {
      "image/png": "[encoded data removed]",
      "text/plain": [
       "<Figure size 720x720 with 2 Axes>"
      ]
     },
     "metadata": {},
     "output_type": "display_data"
    }
   ],
   "source": [
    "features = [2]\n",
    "fig, ax = plt.subplots(figsize=(10,10))\n",
    "plt.rc('font', size=20)\n",
    "one=PartialDependenceDisplay.from_estimator(gb_classifier_resampled, x_train_resampled, features,ax=ax)\n",
    "plt.savefig('2.png',dpi=300)"
   ]
  },
  {
   "cell_type": "code",
   "execution_count": 58,
   "id": "2c8a7d00",
   "metadata": {},
   "outputs": [
    {
     "data": {
      "image/png": "[encoded data removed]",
      "text/plain": [
       "<Figure size 720x720 with 2 Axes>"
      ]
     },
     "metadata": {},
     "output_type": "display_data"
    }
   ],
   "source": [
    "features = [3]\n",
    "fig, ax = plt.subplots(figsize=(10,10))\n",
    "plt.rc('font', size=20)\n",
    "one=PartialDependenceDisplay.from_estimator(gb_classifier_resampled, x_train_resampled, features,ax=ax)\n",
    "plt.savefig('3.png',dpi=300)"
   ]
  },
  {
   "cell_type": "code",
   "execution_count": 65,
   "id": "2407ce8a",
   "metadata": {},
   "outputs": [
    {
     "data": {
      "image/png": "[encoded data removed]",
      "text/plain": [
       "<Figure size 720x720 with 2 Axes>"
      ]
     },
     "metadata": {},
     "output_type": "display_data"
    }
   ],
   "source": [
    "features = [4]\n",
    "fig, ax = plt.subplots(figsize=(10,10))\n",
    "plt.rc('font', size=20)\n",
    "one=PartialDependenceDisplay.from_estimator(gb_classifier_resampled, x_train_resampled, features,ax=ax)\n",
    "plt.savefig('4.png',dpi=300)"
   ]
  },
  {
   "cell_type": "code",
   "execution_count": 59,
   "id": "17a8657c",
   "metadata": {},
   "outputs": [
    {
     "data": {
      "image/png": "[encoded data removed]",
      "text/plain": [
       "<Figure size 720x720 with 2 Axes>"
      ]
     },
     "metadata": {},
     "output_type": "display_data"
    }
   ],
   "source": [
    "features = [5]\n",
    "fig, ax = plt.subplots(figsize=(10,10))\n",
    "plt.rc('font', size=20)\n",
    "one=PartialDependenceDisplay.from_estimator(gb_classifier_resampled, x_train_resampled, features,ax=ax)\n",
    "plt.savefig('5.png',dpi=300)"
   ]
  },
  {
   "cell_type": "code",
   "execution_count": 60,
   "id": "f79f07d1",
   "metadata": {},
   "outputs": [
    {
     "data": {
      "image/png": "[encoded data removed]",
      "text/plain": [
       "<Figure size 720x720 with 2 Axes>"
      ]
     },
     "metadata": {},
     "output_type": "display_data"
    }
   ],
   "source": [
    "features = [6]\n",
    "fig, ax = plt.subplots(figsize=(10,10))\n",
    "plt.rc('font', size=20)\n",
    "one=PartialDependenceDisplay.from_estimator(gb_classifier_resampled, x_train_resampled, features,ax=ax)\n",
    "plt.savefig('6.png',dpi=300)"
   ]
  },
  {
   "cell_type": "code",
   "execution_count": 61,
   "id": "b4be0dc4",
   "metadata": {},
   "outputs": [
    {
     "data": {
      "image/png": "[encoded data removed]",
      "text/plain": [
       "<Figure size 720x720 with 2 Axes>"
      ]
     },
     "metadata": {},
     "output_type": "display_data"
    }
   ],
   "source": [
    "features = [7]\n",
    "fig, ax = plt.subplots(figsize=(10,10))\n",
    "plt.rc('font', size=20)\n",
    "one=PartialDependenceDisplay.from_estimator(gb_classifier_resampled, x_train_resampled, features,ax=ax)\n",
    "plt.savefig('7.png',dpi=300)"
   ]
  },
  {
   "cell_type": "code",
   "execution_count": 62,
   "id": "f8c36bd6",
   "metadata": {},
   "outputs": [
    {
     "data": {
      "image/png": "[encoded data removed]",
      "text/plain": [
       "<Figure size 720x720 with 2 Axes>"
      ]
     },
     "metadata": {},
     "output_type": "display_data"
    }
   ],
   "source": [
    "features = [8]\n",
    "fig, ax = plt.subplots(figsize=(10,10))\n",
    "plt.rc('font', size=20)\n",
    "one=PartialDependenceDisplay.from_estimator(gb_classifier_resampled, x_train_resampled, features,ax=ax)\n",
    "plt.savefig('8.png',dpi=300)"
   ]
  },
  {
   "cell_type": "code",
   "execution_count": null,
   "id": "71fed3ce",
   "metadata": {},
   "outputs": [],
   "source": []
  }
 ],
 "metadata": {
  "kernelspec": {
   "display_name": "Python 3 (ipykernel)",
   "language": "python",
   "name": "python3"
  },
  "language_info": {
   "codemirror_mode": {
    "name": "ipython",
    "version": 3
   },
   "file_extension": ".py",
   "mimetype": "text/x-python",
   "name": "python",
   "nbconvert_exporter": "python",
   "pygments_lexer": "ipython3",
   "version": "3.10.9"
  }
 },
 "nbformat": 4,
 "nbformat_minor": 5
}
